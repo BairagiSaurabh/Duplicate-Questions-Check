{
 "cells": [
  {
   "cell_type": "markdown",
   "id": "43daa04f",
   "metadata": {
    "id": "43daa04f"
   },
   "source": [
    "# Importing Libraries:"
   ]
  },
  {
   "cell_type": "code",
   "execution_count": 94,
   "id": "17201d7a",
   "metadata": {
    "colab": {
     "base_uri": "https://localhost:8080/"
    },
    "id": "17201d7a",
    "outputId": "4823d9ba-aca7-4984-914c-9b0d0963a740"
   },
   "outputs": [],
   "source": [
    "import numpy as np\n",
    "import matplotlib.pyplot as plt\n",
    "import seaborn as sns\n",
    "import pandas as pd\n",
    "from fuzzywuzzy import fuzz\n",
    "import distance\n",
    "from wordcloud import WordCloud\n",
    "import nltk\n",
    "from nltk.corpus import stopwords\n",
    "from nltk.stem import WordNetLemmatizer\n",
    "from sklearn.feature_extraction.text import CountVectorizer\n",
    "from sklearn.feature_extraction.text import TfidfVectorizer\n",
    "from tqdm import tqdm\n",
    "from gensim.models import Word2Vec\n",
    "import math\n",
    "import re\n",
    "from sklearn.metrics import accuracy_score, log_loss \n",
    "from sklearn.metrics import roc_curve, auc\n",
    "from sklearn.metrics import roc_auc_score\n",
    "from sklearn.calibration import CalibratedClassifierCV\n",
    "from sklearn.model_selection import train_test_split\n",
    "from sklearn.model_selection import GridSearchCV\n",
    "from sklearn.ensemble import RandomForestClassifier\n",
    "from sklearn.model_selection import cross_val_score\n",
    "from sklearn.linear_model import SGDClassifier\n",
    "from sklearn.linear_model import LogisticRegression\n",
    "import lightgbm as ltb\n",
    "import warnings\n",
    "warnings.filterwarnings(\"ignore\")"
   ]
  },
  {
   "cell_type": "code",
   "execution_count": 5,
   "id": "Mvg2zsU1HLW4",
   "metadata": {
    "colab": {
     "base_uri": "https://localhost:8080/"
    },
    "id": "Mvg2zsU1HLW4",
    "outputId": "e4b40d27-9ced-4d32-f960-475f6ce80e31"
   },
   "outputs": [],
   "source": [
    "#from google.colab import drive\n",
    "#drive.mount('/content/drive')"
   ]
  },
  {
   "cell_type": "code",
   "execution_count": 6,
   "id": "0d836e1c",
   "metadata": {
    "colab": {
     "base_uri": "https://localhost:8080/",
     "height": 192
    },
    "id": "0d836e1c",
    "outputId": "1fcfc1c9-071f-4f93-f259-d9d800878272"
   },
   "outputs": [
    {
     "name": "stdout",
     "output_type": "stream",
     "text": [
      "(404290, 6)\n"
     ]
    },
    {
     "data": {
      "text/html": [
       "<div>\n",
       "<style scoped>\n",
       "    .dataframe tbody tr th:only-of-type {\n",
       "        vertical-align: middle;\n",
       "    }\n",
       "\n",
       "    .dataframe tbody tr th {\n",
       "        vertical-align: top;\n",
       "    }\n",
       "\n",
       "    .dataframe thead th {\n",
       "        text-align: right;\n",
       "    }\n",
       "</style>\n",
       "<table border=\"1\" class=\"dataframe\">\n",
       "  <thead>\n",
       "    <tr style=\"text-align: right;\">\n",
       "      <th></th>\n",
       "      <th>id</th>\n",
       "      <th>qid1</th>\n",
       "      <th>qid2</th>\n",
       "      <th>question1</th>\n",
       "      <th>question2</th>\n",
       "      <th>is_duplicate</th>\n",
       "    </tr>\n",
       "  </thead>\n",
       "  <tbody>\n",
       "    <tr>\n",
       "      <th>0</th>\n",
       "      <td>0</td>\n",
       "      <td>1</td>\n",
       "      <td>2</td>\n",
       "      <td>What is the step by step guide to invest in sh...</td>\n",
       "      <td>What is the step by step guide to invest in sh...</td>\n",
       "      <td>0</td>\n",
       "    </tr>\n",
       "    <tr>\n",
       "      <th>1</th>\n",
       "      <td>1</td>\n",
       "      <td>3</td>\n",
       "      <td>4</td>\n",
       "      <td>What is the story of Kohinoor (Koh-i-Noor) Dia...</td>\n",
       "      <td>What would happen if the Indian government sto...</td>\n",
       "      <td>0</td>\n",
       "    </tr>\n",
       "    <tr>\n",
       "      <th>2</th>\n",
       "      <td>2</td>\n",
       "      <td>5</td>\n",
       "      <td>6</td>\n",
       "      <td>How can I increase the speed of my internet co...</td>\n",
       "      <td>How can Internet speed be increased by hacking...</td>\n",
       "      <td>0</td>\n",
       "    </tr>\n",
       "    <tr>\n",
       "      <th>3</th>\n",
       "      <td>3</td>\n",
       "      <td>7</td>\n",
       "      <td>8</td>\n",
       "      <td>Why am I mentally very lonely? How can I solve...</td>\n",
       "      <td>Find the remainder when [math]23^{24}[/math] i...</td>\n",
       "      <td>0</td>\n",
       "    </tr>\n",
       "  </tbody>\n",
       "</table>\n",
       "</div>"
      ],
      "text/plain": [
       "   id  qid1  qid2                                          question1  \\\n",
       "0   0     1     2  What is the step by step guide to invest in sh...   \n",
       "1   1     3     4  What is the story of Kohinoor (Koh-i-Noor) Dia...   \n",
       "2   2     5     6  How can I increase the speed of my internet co...   \n",
       "3   3     7     8  Why am I mentally very lonely? How can I solve...   \n",
       "\n",
       "                                           question2  is_duplicate  \n",
       "0  What is the step by step guide to invest in sh...             0  \n",
       "1  What would happen if the Indian government sto...             0  \n",
       "2  How can Internet speed be increased by hacking...             0  \n",
       "3  Find the remainder when [math]23^{24}[/math] i...             0  "
      ]
     },
     "execution_count": 6,
     "metadata": {},
     "output_type": "execute_result"
    }
   ],
   "source": [
    "path = \"train_quora.csv\"\n",
    "data = pd.read_csv(path)\n",
    "print(data.shape)\n",
    "data.head(4)"
   ]
  },
  {
   "cell_type": "code",
   "execution_count": 7,
   "id": "w2qKYVwUH2D5",
   "metadata": {
    "id": "w2qKYVwUH2D5"
   },
   "outputs": [],
   "source": [
    "data_ = data"
   ]
  },
  {
   "cell_type": "code",
   "execution_count": 8,
   "id": "d7942c79",
   "metadata": {
    "colab": {
     "base_uri": "https://localhost:8080/"
    },
    "id": "d7942c79",
    "outputId": "729a93c1-b738-4258-c287-9c45ed5afefc"
   },
   "outputs": [
    {
     "name": "stdout",
     "output_type": "stream",
     "text": [
      "Following is the example for NON-SIMILAR questions\n",
      "****************************************************************************************************\n",
      "Method to find separation of slits using fresnel biprism?\n",
      "****************************************************************************************************\n",
      "What are some of the things technicians can tell about the durability and reliability of Laptops and its components?\n"
     ]
    }
   ],
   "source": [
    "# Example of non-similar questions:\n",
    "\n",
    "print('Following is the example for NON-SIMILAR questions')\n",
    "print('*'*100)\n",
    "print(data_['question1'].values[10])\n",
    "print('*'*100)\n",
    "print(data_['question2'].values[10])"
   ]
  },
  {
   "cell_type": "code",
   "execution_count": 9,
   "id": "06088db7",
   "metadata": {
    "colab": {
     "base_uri": "https://localhost:8080/"
    },
    "id": "06088db7",
    "outputId": "0b55897b-0d79-4fe6-a987-ed7f18d39c26"
   },
   "outputs": [
    {
     "name": "stdout",
     "output_type": "stream",
     "text": [
      "Following is the example for SIMILAR questions\n",
      "****************************************************************************************************\n",
      "How do I read and find my YouTube comments?\n",
      "****************************************************************************************************\n",
      "How can I see all my Youtube comments?\n"
     ]
    }
   ],
   "source": [
    "# Example of similar questions:\n",
    "\n",
    "print('Following is the example for SIMILAR questions')\n",
    "print('*'*100)\n",
    "print(data_['question1'].values[11])\n",
    "print('*'*100)\n",
    "print(data_['question2'].values[11])"
   ]
  },
  {
   "cell_type": "markdown",
   "id": "b528d3ed",
   "metadata": {
    "id": "b528d3ed"
   },
   "source": [
    "# Splitting Data:"
   ]
  },
  {
   "cell_type": "code",
   "execution_count": 10,
   "id": "cbc9f783",
   "metadata": {
    "id": "cbc9f783"
   },
   "outputs": [],
   "source": [
    "x = data_.drop(['is_duplicate'],axis = 1)\n",
    "y = data_['is_duplicate']"
   ]
  },
  {
   "cell_type": "code",
   "execution_count": 11,
   "id": "0a806b6d",
   "metadata": {
    "id": "0a806b6d"
   },
   "outputs": [],
   "source": [
    "# Splitting the data into Train,CV and Test Sets:\n",
    "\n",
    "x_train,x_test,y_train,y_test = train_test_split(x,y,test_size = 0.2,stratify = y,random_state = 0)\n",
    "x_train1,x_cv,y_train1,y_cv = train_test_split(x_train,y_train,test_size = 0.2,stratify = y_train,random_state = 0)\n",
    "\n",
    "# stratify helps in fair distribution of class labels for both train and test sets."
   ]
  },
  {
   "cell_type": "code",
   "execution_count": 12,
   "id": "eef2cb11",
   "metadata": {
    "id": "eef2cb11"
   },
   "outputs": [],
   "source": [
    "xy_train = pd.concat([x_train,y_train], axis = 1)\n",
    "xy_test = pd.concat([x_test,y_test], axis = 1)"
   ]
  },
  {
   "cell_type": "code",
   "execution_count": 13,
   "id": "7c3e0123",
   "metadata": {
    "colab": {
     "base_uri": "https://localhost:8080/"
    },
    "id": "7c3e0123",
    "outputId": "a6b9c6bd-b58e-47e5-901c-dd971db63dbb"
   },
   "outputs": [
    {
     "data": {
      "text/plain": [
       "0    204022\n",
       "1    119410\n",
       "Name: is_duplicate, dtype: int64"
      ]
     },
     "execution_count": 13,
     "metadata": {},
     "output_type": "execute_result"
    }
   ],
   "source": [
    "labels = y_train.value_counts()\n",
    "labels"
   ]
  },
  {
   "cell_type": "markdown",
   "id": "dd2e5074",
   "metadata": {
    "id": "dd2e5074"
   },
   "source": [
    "# Distribution of class label: 0 = Not Duplicate, 1 = Duplicate\n"
   ]
  },
  {
   "cell_type": "code",
   "execution_count": 14,
   "id": "0f935ac4",
   "metadata": {
    "colab": {
     "base_uri": "https://localhost:8080/",
     "height": 295
    },
    "id": "0f935ac4",
    "outputId": "25a53266-3fda-4de7-8fc7-df928ced8271"
   },
   "outputs": [
    {
     "data": {
      "image/png": "[encoded data removed]",
      "text/plain": [
       "<Figure size 432x288 with 1 Axes>"
      ]
     },
     "metadata": {
      "needs_background": "light"
     },
     "output_type": "display_data"
    }
   ],
   "source": [
    "x_axis = [str(0),str(1)]\n",
    "y_axis = [labels[0],labels[1]]\n",
    "\n",
    "plt.bar(x_axis,y_axis,width = 0.4,)\n",
    "plt.xlabel('Duplicate or not')\n",
    "plt.ylabel('Number of questions')\n",
    "plt.title('Frequency of Duplicate questions')\n",
    "plt.show()"
   ]
  },
  {
   "cell_type": "markdown",
   "id": "e046e117",
   "metadata": {
    "id": "e046e117"
   },
   "source": [
    "- We see that this is a case of slightly imbalanced dataset. (64-36)\n",
    "- Number of non-duplicate questions are more than duplicate questions."
   ]
  },
  {
   "cell_type": "code",
   "execution_count": 15,
   "id": "1c5a5cbd",
   "metadata": {
    "colab": {
     "base_uri": "https://localhost:8080/"
    },
    "id": "1c5a5cbd",
    "outputId": "757fa991-98e5-417c-e326-9c7a68046b80"
   },
   "outputs": [
    {
     "name": "stdout",
     "output_type": "stream",
     "text": [
      "Percentage of Similar question pairs in dataset is: 36.91966162902867%\n",
      "Percentage of Not Similar questions in dataset is: 63.08033837097133%\n"
     ]
    }
   ],
   "source": [
    "# Percentage of similar questions:\n",
    "\n",
    "similar = ((labels[1])/(labels[0] + labels[1]))*100\n",
    "not_similar = ((labels[0])/(labels[0] + labels[1]))*100\n",
    "print('Percentage of Similar question pairs in dataset is: {}%'.format(similar))\n",
    "print('Percentage of Not Similar questions in dataset is: {}%'.format(not_similar))\n"
   ]
  },
  {
   "cell_type": "markdown",
   "id": "e9f96315",
   "metadata": {
    "id": "e9f96315"
   },
   "source": [
    "# Checking null values:"
   ]
  },
  {
   "cell_type": "code",
   "execution_count": 16,
   "id": "274665d8",
   "metadata": {
    "colab": {
     "base_uri": "https://localhost:8080/"
    },
    "id": "274665d8",
    "outputId": "ff98e0cd-b37b-45be-fa52-210fa40328b7"
   },
   "outputs": [
    {
     "name": "stdout",
     "output_type": "stream",
     "text": [
      "            id    qid1    qid2                         question1  \\\n",
      "363362  363362  493340  493341                               NaN   \n",
      "105780  105780  174363  174364    How can I develop android app?   \n",
      "201841  201841  303951  174364  How can I create an Android app?   \n",
      "\n",
      "                                                question2  is_duplicate  \n",
      "363362  My Chinese name is Haichao Yu. What English na...             0  \n",
      "105780                                                NaN             0  \n",
      "201841                                                NaN             0  \n"
     ]
    }
   ],
   "source": [
    "# Train set\n",
    "\n",
    "null_value = xy_train[xy_train.isnull().any(1)]\n",
    "print(null_value)\n",
    "\n",
    "# .any(1) this returns the instance where the dataframe has null values"
   ]
  },
  {
   "cell_type": "code",
   "execution_count": 17,
   "id": "7535d089",
   "metadata": {
    "id": "7535d089"
   },
   "outputs": [],
   "source": [
    "xy_train.dropna(inplace = True)"
   ]
  },
  {
   "cell_type": "code",
   "execution_count": 18,
   "id": "8RdobsRyJAPt",
   "metadata": {
    "colab": {
     "base_uri": "https://localhost:8080/"
    },
    "id": "8RdobsRyJAPt",
    "outputId": "dcc52fcd-3d61-4d6b-994d-fd672bd979ee"
   },
   "outputs": [
    {
     "name": "stdout",
     "output_type": "stream",
     "text": [
      "Empty DataFrame\n",
      "Columns: [id, qid1, qid2, question1, question2, is_duplicate]\n",
      "Index: []\n"
     ]
    }
   ],
   "source": [
    "null_value = xy_train[xy_train.isnull().any(1)]\n",
    "print(null_value)"
   ]
  },
  {
   "cell_type": "code",
   "execution_count": 19,
   "id": "72b59252",
   "metadata": {
    "colab": {
     "base_uri": "https://localhost:8080/"
    },
    "id": "72b59252",
    "outputId": "eb0b2613-0e88-4908-b9fc-46bbd12dad19"
   },
   "outputs": [
    {
     "name": "stdout",
     "output_type": "stream",
     "text": [
      "Empty DataFrame\n",
      "Columns: [id, qid1, qid2, question1, question2, is_duplicate]\n",
      "Index: []\n"
     ]
    }
   ],
   "source": [
    "# Test set\n",
    "\n",
    "null_value = xy_test[xy_test.isnull().any(1)]\n",
    "print(null_value)"
   ]
  },
  {
   "cell_type": "code",
   "execution_count": 20,
   "id": "d9dd6eb2",
   "metadata": {
    "id": "d9dd6eb2"
   },
   "outputs": [],
   "source": [
    "# x_test.dropna(inplace = True)"
   ]
  },
  {
   "cell_type": "code",
   "execution_count": 21,
   "id": "QcPSXAlUMBRP",
   "metadata": {
    "id": "QcPSXAlUMBRP"
   },
   "outputs": [],
   "source": [
    "# Storing two questions in seperate variable:\n",
    "\n",
    "q1_train = xy_train.iloc[:,3].values\n",
    "q2_train = xy_train.iloc[:,4].values\n",
    "\n",
    "q1_test = xy_test.iloc[:,3].values\n",
    "q2_test = xy_test.iloc[:,4].values"
   ]
  },
  {
   "cell_type": "code",
   "execution_count": 22,
   "id": "Aves5ipAzHxb",
   "metadata": {
    "id": "Aves5ipAzHxb"
   },
   "outputs": [],
   "source": [
    "y_train = xy_train[\"is_duplicate\"]\n",
    "y_test = xy_test[\"is_duplicate\"]"
   ]
  },
  {
   "cell_type": "markdown",
   "id": "a379e36b",
   "metadata": {
    "id": "a379e36b"
   },
   "source": [
    "# Genreal idea about data:"
   ]
  },
  {
   "cell_type": "code",
   "execution_count": 23,
   "id": "ffabc91c",
   "metadata": {
    "colab": {
     "base_uri": "https://localhost:8080/"
    },
    "id": "ffabc91c",
    "outputId": "ff8fa633-086f-41c3-9c24-431615e32ef3"
   },
   "outputs": [
    {
     "name": "stdout",
     "output_type": "stream",
     "text": [
      "Question ID and their number of occurences\n",
      "2559     132\n",
      "30782     97\n",
      "4044      86\n",
      "17978     70\n",
      "2561      70\n",
      "dtype: int64\n"
     ]
    }
   ],
   "source": [
    "# Here, we see which questions are repeated multiple number of times.\n",
    "# We get to know about these questions through the \"question id\" (qid)\n",
    "\n",
    "ques = pd.Series(xy_train['qid1'].tolist() + xy_train['qid2'].tolist())\n",
    "unique_ques = len(np.unique(ques))\n",
    "repeat = np.sum(ques.value_counts() > 1)\n",
    "max_ques = max(ques.value_counts())\n",
    "values = ques.value_counts()\n",
    "\n",
    "idx = ques.value_counts().index.tolist()[0] # To get the qid value for question that repeats maximum number of times\n",
    "\n",
    "maxi = xy_train.loc[(data_['qid1'] == idx)]\n",
    "maxi2 = maxi[maxi.columns[[3]]]\n",
    "\n",
    "print('Question ID and their number of occurences')\n",
    "print(values[:5])\n"
   ]
  },
  {
   "cell_type": "code",
   "execution_count": 24,
   "id": "61d97b18",
   "metadata": {
    "colab": {
     "base_uri": "https://localhost:8080/",
     "height": 1000
    },
    "id": "61d97b18",
    "outputId": "53be5c35-77ad-4be7-cf77-4816df50ca44"
   },
   "outputs": [
    {
     "name": "stdout",
     "output_type": "stream",
     "text": [
      "Total number of unique questions are:  450207\n",
      "***************************************************************************\n",
      "19.08% of the unique questions repeat themselves\n",
      "***************************************************************************\n",
      "The following question is repeated 132 times\n"
     ]
    },
    {
     "data": {
      "text/html": [
       "<div>\n",
       "<style scoped>\n",
       "    .dataframe tbody tr th:only-of-type {\n",
       "        vertical-align: middle;\n",
       "    }\n",
       "\n",
       "    .dataframe tbody tr th {\n",
       "        vertical-align: top;\n",
       "    }\n",
       "\n",
       "    .dataframe thead th {\n",
       "        text-align: right;\n",
       "    }\n",
       "</style>\n",
       "<table border=\"1\" class=\"dataframe\">\n",
       "  <thead>\n",
       "    <tr style=\"text-align: right;\">\n",
       "      <th></th>\n",
       "      <th>question1</th>\n",
       "    </tr>\n",
       "  </thead>\n",
       "  <tbody>\n",
       "    <tr>\n",
       "      <th>113625</th>\n",
       "      <td>What are the best ways to lose weight?</td>\n",
       "    </tr>\n",
       "    <tr>\n",
       "      <th>213954</th>\n",
       "      <td>What are the best ways to lose weight?</td>\n",
       "    </tr>\n",
       "    <tr>\n",
       "      <th>379679</th>\n",
       "      <td>What are the best ways to lose weight?</td>\n",
       "    </tr>\n",
       "    <tr>\n",
       "      <th>402909</th>\n",
       "      <td>What are the best ways to lose weight?</td>\n",
       "    </tr>\n",
       "    <tr>\n",
       "      <th>81363</th>\n",
       "      <td>What are the best ways to lose weight?</td>\n",
       "    </tr>\n",
       "    <tr>\n",
       "      <th>377925</th>\n",
       "      <td>What are the best ways to lose weight?</td>\n",
       "    </tr>\n",
       "    <tr>\n",
       "      <th>115816</th>\n",
       "      <td>What are the best ways to lose weight?</td>\n",
       "    </tr>\n",
       "    <tr>\n",
       "      <th>288565</th>\n",
       "      <td>What are the best ways to lose weight?</td>\n",
       "    </tr>\n",
       "    <tr>\n",
       "      <th>360010</th>\n",
       "      <td>What are the best ways to lose weight?</td>\n",
       "    </tr>\n",
       "    <tr>\n",
       "      <th>268883</th>\n",
       "      <td>What are the best ways to lose weight?</td>\n",
       "    </tr>\n",
       "    <tr>\n",
       "      <th>86631</th>\n",
       "      <td>What are the best ways to lose weight?</td>\n",
       "    </tr>\n",
       "    <tr>\n",
       "      <th>345086</th>\n",
       "      <td>What are the best ways to lose weight?</td>\n",
       "    </tr>\n",
       "    <tr>\n",
       "      <th>140355</th>\n",
       "      <td>What are the best ways to lose weight?</td>\n",
       "    </tr>\n",
       "    <tr>\n",
       "      <th>390048</th>\n",
       "      <td>What are the best ways to lose weight?</td>\n",
       "    </tr>\n",
       "    <tr>\n",
       "      <th>253672</th>\n",
       "      <td>What are the best ways to lose weight?</td>\n",
       "    </tr>\n",
       "    <tr>\n",
       "      <th>202883</th>\n",
       "      <td>What are the best ways to lose weight?</td>\n",
       "    </tr>\n",
       "    <tr>\n",
       "      <th>134629</th>\n",
       "      <td>What are the best ways to lose weight?</td>\n",
       "    </tr>\n",
       "    <tr>\n",
       "      <th>82016</th>\n",
       "      <td>What are the best ways to lose weight?</td>\n",
       "    </tr>\n",
       "    <tr>\n",
       "      <th>228265</th>\n",
       "      <td>What are the best ways to lose weight?</td>\n",
       "    </tr>\n",
       "    <tr>\n",
       "      <th>327551</th>\n",
       "      <td>What are the best ways to lose weight?</td>\n",
       "    </tr>\n",
       "    <tr>\n",
       "      <th>216562</th>\n",
       "      <td>What are the best ways to lose weight?</td>\n",
       "    </tr>\n",
       "    <tr>\n",
       "      <th>339152</th>\n",
       "      <td>What are the best ways to lose weight?</td>\n",
       "    </tr>\n",
       "    <tr>\n",
       "      <th>115228</th>\n",
       "      <td>What are the best ways to lose weight?</td>\n",
       "    </tr>\n",
       "    <tr>\n",
       "      <th>38200</th>\n",
       "      <td>What are the best ways to lose weight?</td>\n",
       "    </tr>\n",
       "    <tr>\n",
       "      <th>387610</th>\n",
       "      <td>What are the best ways to lose weight?</td>\n",
       "    </tr>\n",
       "    <tr>\n",
       "      <th>263505</th>\n",
       "      <td>What are the best ways to lose weight?</td>\n",
       "    </tr>\n",
       "    <tr>\n",
       "      <th>273689</th>\n",
       "      <td>What are the best ways to lose weight?</td>\n",
       "    </tr>\n",
       "    <tr>\n",
       "      <th>89295</th>\n",
       "      <td>What are the best ways to lose weight?</td>\n",
       "    </tr>\n",
       "    <tr>\n",
       "      <th>56239</th>\n",
       "      <td>What are the best ways to lose weight?</td>\n",
       "    </tr>\n",
       "    <tr>\n",
       "      <th>326227</th>\n",
       "      <td>What are the best ways to lose weight?</td>\n",
       "    </tr>\n",
       "    <tr>\n",
       "      <th>390396</th>\n",
       "      <td>What are the best ways to lose weight?</td>\n",
       "    </tr>\n",
       "    <tr>\n",
       "      <th>277652</th>\n",
       "      <td>What are the best ways to lose weight?</td>\n",
       "    </tr>\n",
       "    <tr>\n",
       "      <th>306135</th>\n",
       "      <td>What are the best ways to lose weight?</td>\n",
       "    </tr>\n",
       "    <tr>\n",
       "      <th>81973</th>\n",
       "      <td>What are the best ways to lose weight?</td>\n",
       "    </tr>\n",
       "    <tr>\n",
       "      <th>14712</th>\n",
       "      <td>What are the best ways to lose weight?</td>\n",
       "    </tr>\n",
       "  </tbody>\n",
       "</table>\n",
       "</div>"
      ],
      "text/plain": [
       "                                     question1\n",
       "113625  What are the best ways to lose weight?\n",
       "213954  What are the best ways to lose weight?\n",
       "379679  What are the best ways to lose weight?\n",
       "402909  What are the best ways to lose weight?\n",
       "81363   What are the best ways to lose weight?\n",
       "377925  What are the best ways to lose weight?\n",
       "115816  What are the best ways to lose weight?\n",
       "288565  What are the best ways to lose weight?\n",
       "360010  What are the best ways to lose weight?\n",
       "268883  What are the best ways to lose weight?\n",
       "86631   What are the best ways to lose weight?\n",
       "345086  What are the best ways to lose weight?\n",
       "140355  What are the best ways to lose weight?\n",
       "390048  What are the best ways to lose weight?\n",
       "253672  What are the best ways to lose weight?\n",
       "202883  What are the best ways to lose weight?\n",
       "134629  What are the best ways to lose weight?\n",
       "82016   What are the best ways to lose weight?\n",
       "228265  What are the best ways to lose weight?\n",
       "327551  What are the best ways to lose weight?\n",
       "216562  What are the best ways to lose weight?\n",
       "339152  What are the best ways to lose weight?\n",
       "115228  What are the best ways to lose weight?\n",
       "38200   What are the best ways to lose weight?\n",
       "387610  What are the best ways to lose weight?\n",
       "263505  What are the best ways to lose weight?\n",
       "273689  What are the best ways to lose weight?\n",
       "89295   What are the best ways to lose weight?\n",
       "56239   What are the best ways to lose weight?\n",
       "326227  What are the best ways to lose weight?\n",
       "390396  What are the best ways to lose weight?\n",
       "277652  What are the best ways to lose weight?\n",
       "306135  What are the best ways to lose weight?\n",
       "81973   What are the best ways to lose weight?\n",
       "14712   What are the best ways to lose weight?"
      ]
     },
     "execution_count": 24,
     "metadata": {},
     "output_type": "execute_result"
    }
   ],
   "source": [
    "print('Total number of unique questions are: ',unique_ques)\n",
    "print('*'*75)\n",
    "print('{}% of the unique questions repeat themselves'.format(round((repeat/unique_ques)*100,2)))\n",
    "print('*'*75)\n",
    "print('The following question is repeated {} times'.format(max_ques))\n",
    "(maxi2)"
   ]
  },
  {
   "cell_type": "markdown",
   "id": "bf0a6f9e",
   "metadata": {
    "id": "bf0a6f9e"
   },
   "source": [
    "# Data Cleaning:"
   ]
  },
  {
   "cell_type": "code",
   "execution_count": 25,
   "id": "0f0f704e",
   "metadata": {
    "colab": {
     "base_uri": "https://localhost:8080/"
    },
    "id": "0f0f704e",
    "outputId": "d03966d7-6c20-4552-b03b-498df5271626"
   },
   "outputs": [
    {
     "name": "stderr",
     "output_type": "stream",
     "text": [
      "[nltk_data] Downloading package wordnet to C:\\Users\\PANCHAYAT  SAMITI\n",
      "[nltk_data]     01\\AppData\\Roaming\\nltk_data...\n",
      "[nltk_data]   Package wordnet is already up-to-date!\n",
      "[nltk_data] Downloading package omw-1.4 to C:\\Users\\PANCHAYAT  SAMITI\n",
      "[nltk_data]     01\\AppData\\Roaming\\nltk_data...\n",
      "[nltk_data]   Package omw-1.4 is already up-to-date!\n"
     ]
    },
    {
     "data": {
      "text/plain": [
       "True"
      ]
     },
     "execution_count": 25,
     "metadata": {},
     "output_type": "execute_result"
    }
   ],
   "source": [
    "lemma = WordNetLemmatizer()\n",
    "import nltk\n",
    "nltk.download('wordnet')\n",
    "nltk.download('omw-1.4')"
   ]
  },
  {
   "cell_type": "code",
   "execution_count": 26,
   "id": "d5d9ca82",
   "metadata": {
    "id": "d5d9ca82"
   },
   "outputs": [],
   "source": [
    "# not removing stop-words yet: \n",
    "def clean(text):\n",
    "    '''\n",
    "    This function gets rid of all punctuation marks, special characters\n",
    "    and expands the contracted words and returns words in its lemma form\n",
    "    \n",
    "    '''\n",
    "    sent = text.lower().strip() # Done for whole sentence\n",
    "    sent = re.sub('[^a-zA-Z]',' ',text) # Done for whole sentence\n",
    "    sent = sent.replace(\"′\", \"'\").replace(\"’\", \"'\")\\\n",
    "                           .replace(\"won't\", \"will not\").replace(\"cannot\", \"can not\").replace(\"can't\", \"can not\")\\\n",
    "                           .replace(\"n't\", \" not\").replace(\"what's\", \"what is\").replace(\"it's\", \"it is\")\\\n",
    "                           .replace(\"'ve\", \" have\").replace(\"i'm\", \"i am\").replace(\"'re\", \" are\")\\\n",
    "                           .replace(\"he's\", \"he is\").replace(\"she's\", \"she is\").replace(\"'s\", \" own\")\\\n",
    "                           .replace(\"%\", \" percent \").replace(\"₹\", \" rupee \").replace(\"$\", \" dollar \")\\\n",
    "                           .replace(\"€\", \" euro \").replace(\"'ll\", \" will\").replace(\"doesn't\", \"does not\")\n",
    "    sent = sent.split()\n",
    "    final = [lemma.lemmatize(word) for word in sent]\n",
    "    final_sent =  ' '.join(final)\n",
    "    return final_sent\n",
    "\n",
    "# The strip() method removes any leading (spaces at the beginning) and trailing (spaces at the end) characters"
   ]
  },
  {
   "cell_type": "code",
   "execution_count": 27,
   "id": "d6a9fba8",
   "metadata": {
    "id": "d6a9fba8"
   },
   "outputs": [],
   "source": [
    "# Cleaning the train set\n",
    "\n",
    "q1_train_clean = [] # This stores all the question1 text which has been cleaned \n",
    "for z in range(len(q1_train)):\n",
    "    res = clean(str(q1_train[z]))\n",
    "    q1_train_clean.append(res)\n",
    "    \n",
    "q2_train_clean = [] # This stores all the question2 text which has been cleaned \n",
    "for v in range(len(q2_train)):\n",
    "    res2 = clean(str(q2_train[v]))\n",
    "    q2_train_clean.append(res2)"
   ]
  },
  {
   "cell_type": "code",
   "execution_count": 28,
   "id": "2027388e",
   "metadata": {
    "id": "2027388e"
   },
   "outputs": [],
   "source": [
    "# Cleaning the test set\n",
    "\n",
    "q1_test_clean = [] # This stores all the question1 text which has been cleaned \n",
    "for z in range(len(q1_test)):\n",
    "    res = clean(str(q1_test[z]))\n",
    "    q1_test_clean.append(res)\n",
    "    \n",
    "q2_test_clean = [] # This stores all the question2 text which has been cleaned \n",
    "for v in range(len(q2_test)):\n",
    "    res2 = clean(str(q2_test[v]))\n",
    "    q2_test_clean.append(res2)"
   ]
  },
  {
   "cell_type": "markdown",
   "id": "9d8867ee",
   "metadata": {
    "id": "9d8867ee"
   },
   "source": [
    "#  Feature Extraction: Train set"
   ]
  },
  {
   "cell_type": "code",
   "execution_count": 29,
   "id": "35f78c5b",
   "metadata": {
    "id": "35f78c5b"
   },
   "outputs": [],
   "source": [
    "# Length of sentence\n",
    "q1_train_len = [len(i.split()) for i in q1_train_clean]\n",
    "q2_train_len = [len(j.split()) for j in q2_train_clean]\n",
    "\n",
    "# Common words between two sentences\n",
    "def comm(k):\n",
    "    w1 = set(map(lambda word: word.lower().strip(), q1_train_clean[k].split(\" \"))) \n",
    "    w2 = set(map(lambda word: word.lower().strip(), q2_train_clean[k].split(\" \")))    \n",
    "    return len(w1&w2)\n",
    "common = [comm(r) for r in range(len(q1_train_clean))] # storing the number of common words\n",
    "\n",
    "# Word_share: (common_word_count/total number of words)\n",
    "\n",
    "total = [a+b for a,b in zip(q1_train_len,q2_train_len)]\n",
    "word_share = [round((c/d),3) for c,d in zip(common,total)] \n",
    "\n",
    "# cwc_min & cwc_max: (Ratio of common_word_count to min & max length of word count of Q1 and Q2)\n",
    "\n",
    "min_len = [min(u,t) for u,t in zip(q1_train_len,q2_train_len)] # this returns length of either Q1 or Q2, whichever has minimum one.\n",
    "max_len = [max(u_,t_) for u_,t_ in zip(q1_train_len,q2_train_len)] # this returns length of either Q1 or Q2, whichever has maximum one.\n",
    "\n",
    "cwc_min = [round((e/f),3) if f!=0 else 0 for e,f in zip(common,min_len)] #if min_len =0, appending zero to avoid zero divison error\n",
    "cwc_max = [round((e/f),3) for e,f in zip(common,max_len)]\n",
    "\n",
    "# first word equal or not:\n",
    "\n",
    "first_word = []\n",
    "for g in range(len(q1_train_clean)):\n",
    "    if len(q1_train_clean[g].split()) != 0 and len(q2_train_clean[g].split()) != 0: # handling the condition when length of question = 0\n",
    "        s3 = q1_train_clean[g].split()[0]\n",
    "        s4 = q2_train_clean[g].split()[0]\n",
    "    \n",
    "        if s3 == s4:\n",
    "            first_word.append(1) # if first word of Q1 & Q2 is same, append 1\n",
    "        else:\n",
    "            first_word.append(0) # if first word of Q1 & Q2 is NOT same, append 0\n",
    "    else:\n",
    "        first_word.append(0)\n",
    "        \n",
    "\n",
    "# last word equal or not:\n",
    "last_word = []\n",
    "for g in range(len(q1_train_clean)):\n",
    "    if len(q1_train_clean[g].split()) != 0 and len(q2_train_clean[g].split()) != 0:\n",
    "        s3 = q1_train_clean[g].split()[-1]\n",
    "        s4 = q2_train_clean[g].split()[-1]\n",
    "        if s3 == s4: \n",
    "            last_word.append(1) # if last word of Q1 & Q2 is same, append 1. Else 0\n",
    "        else:\n",
    "            last_word.append(0)\n",
    "    else:\n",
    "        last_word.append(0)\n",
    "        \n",
    "len_diff = [abs(t1-t2) for t1,t2 in zip(q1_train_len,q2_train_len)] #this returns absolute difference between number of words in Q1 & Q2\n",
    "avg_len = [(t1+t2)/2 for t1,t2 in zip(q1_train_len,q2_train_len)] #this returns average number of words in Q1 & Q2"
   ]
  },
  {
   "cell_type": "code",
   "execution_count": 30,
   "id": "26dcbb1f",
   "metadata": {
    "id": "26dcbb1f"
   },
   "outputs": [],
   "source": [
    "# Adding these new extracted features to the dataframe\n",
    "\n",
    "xy_train['q1_length'] = q1_train_len\n",
    "xy_train['q2_length'] = q2_train_len\n",
    "xy_train['common words'] = common\n",
    "xy_train['word share'] = word_share\n",
    "xy_train['cwc_min'] = cwc_min\n",
    "xy_train['cwc_max'] = cwc_max\n",
    "xy_train['first word equal'] = first_word\n",
    "xy_train['last word equal'] = last_word\n",
    "xy_train['difference in no.of words'] = len_diff\n",
    "xy_train['avg length of words'] = avg_len"
   ]
  },
  {
   "cell_type": "code",
   "execution_count": 31,
   "id": "c7c6cbcb",
   "metadata": {
    "colab": {
     "base_uri": "https://localhost:8080/",
     "height": 669
    },
    "id": "c7c6cbcb",
    "outputId": "2948e17a-970c-46a4-a833-5bee0d619006"
   },
   "outputs": [
    {
     "data": {
      "text/html": [
       "<div>\n",
       "<style scoped>\n",
       "    .dataframe tbody tr th:only-of-type {\n",
       "        vertical-align: middle;\n",
       "    }\n",
       "\n",
       "    .dataframe tbody tr th {\n",
       "        vertical-align: top;\n",
       "    }\n",
       "\n",
       "    .dataframe thead th {\n",
       "        text-align: right;\n",
       "    }\n",
       "</style>\n",
       "<table border=\"1\" class=\"dataframe\">\n",
       "  <thead>\n",
       "    <tr style=\"text-align: right;\">\n",
       "      <th></th>\n",
       "      <th>id</th>\n",
       "      <th>qid1</th>\n",
       "      <th>qid2</th>\n",
       "      <th>question1</th>\n",
       "      <th>question2</th>\n",
       "      <th>is_duplicate</th>\n",
       "      <th>q1_length</th>\n",
       "      <th>q2_length</th>\n",
       "      <th>common words</th>\n",
       "      <th>word share</th>\n",
       "      <th>cwc_min</th>\n",
       "      <th>cwc_max</th>\n",
       "      <th>first word equal</th>\n",
       "      <th>last word equal</th>\n",
       "      <th>difference in no.of words</th>\n",
       "      <th>avg length of words</th>\n",
       "    </tr>\n",
       "  </thead>\n",
       "  <tbody>\n",
       "    <tr>\n",
       "      <th>95873</th>\n",
       "      <td>95873</td>\n",
       "      <td>21712</td>\n",
       "      <td>5041</td>\n",
       "      <td>Why do people often ask questions in Quora whi...</td>\n",
       "      <td>Why do people ask questions whose answer can b...</td>\n",
       "      <td>1</td>\n",
       "      <td>14</td>\n",
       "      <td>14</td>\n",
       "      <td>6</td>\n",
       "      <td>0.214</td>\n",
       "      <td>0.429</td>\n",
       "      <td>0.429</td>\n",
       "      <td>1</td>\n",
       "      <td>0</td>\n",
       "      <td>0</td>\n",
       "      <td>14.0</td>\n",
       "    </tr>\n",
       "    <tr>\n",
       "      <th>262013</th>\n",
       "      <td>262013</td>\n",
       "      <td>74232</td>\n",
       "      <td>33958</td>\n",
       "      <td>What are lucid dreams?</td>\n",
       "      <td>Is Lucid dreaming possible?</td>\n",
       "      <td>0</td>\n",
       "      <td>4</td>\n",
       "      <td>4</td>\n",
       "      <td>1</td>\n",
       "      <td>0.125</td>\n",
       "      <td>0.250</td>\n",
       "      <td>0.250</td>\n",
       "      <td>0</td>\n",
       "      <td>0</td>\n",
       "      <td>0</td>\n",
       "      <td>4.0</td>\n",
       "    </tr>\n",
       "    <tr>\n",
       "      <th>85654</th>\n",
       "      <td>85654</td>\n",
       "      <td>144574</td>\n",
       "      <td>144575</td>\n",
       "      <td>Who came first, egg or the hen?</td>\n",
       "      <td>What is first a egg or an hen?</td>\n",
       "      <td>1</td>\n",
       "      <td>7</td>\n",
       "      <td>8</td>\n",
       "      <td>4</td>\n",
       "      <td>0.267</td>\n",
       "      <td>0.571</td>\n",
       "      <td>0.500</td>\n",
       "      <td>0</td>\n",
       "      <td>1</td>\n",
       "      <td>1</td>\n",
       "      <td>7.5</td>\n",
       "    </tr>\n",
       "    <tr>\n",
       "      <th>19837</th>\n",
       "      <td>19837</td>\n",
       "      <td>37476</td>\n",
       "      <td>37477</td>\n",
       "      <td>What is the difference between reptiles, amphi...</td>\n",
       "      <td>What is the difference between amphibians and ...</td>\n",
       "      <td>0</td>\n",
       "      <td>9</td>\n",
       "      <td>8</td>\n",
       "      <td>8</td>\n",
       "      <td>0.471</td>\n",
       "      <td>1.000</td>\n",
       "      <td>0.889</td>\n",
       "      <td>1</td>\n",
       "      <td>0</td>\n",
       "      <td>1</td>\n",
       "      <td>8.5</td>\n",
       "    </tr>\n",
       "    <tr>\n",
       "      <th>105551</th>\n",
       "      <td>105551</td>\n",
       "      <td>11605</td>\n",
       "      <td>1310</td>\n",
       "      <td>What would be the best way to control anger?</td>\n",
       "      <td>How can someone control their anger?</td>\n",
       "      <td>1</td>\n",
       "      <td>9</td>\n",
       "      <td>6</td>\n",
       "      <td>2</td>\n",
       "      <td>0.133</td>\n",
       "      <td>0.333</td>\n",
       "      <td>0.222</td>\n",
       "      <td>0</td>\n",
       "      <td>1</td>\n",
       "      <td>3</td>\n",
       "      <td>7.5</td>\n",
       "    </tr>\n",
       "  </tbody>\n",
       "</table>\n",
       "</div>"
      ],
      "text/plain": [
       "            id    qid1    qid2  \\\n",
       "95873    95873   21712    5041   \n",
       "262013  262013   74232   33958   \n",
       "85654    85654  144574  144575   \n",
       "19837    19837   37476   37477   \n",
       "105551  105551   11605    1310   \n",
       "\n",
       "                                                question1  \\\n",
       "95873   Why do people often ask questions in Quora whi...   \n",
       "262013                             What are lucid dreams?   \n",
       "85654                     Who came first, egg or the hen?   \n",
       "19837   What is the difference between reptiles, amphi...   \n",
       "105551       What would be the best way to control anger?   \n",
       "\n",
       "                                                question2  is_duplicate  \\\n",
       "95873   Why do people ask questions whose answer can b...             1   \n",
       "262013                        Is Lucid dreaming possible?             0   \n",
       "85654                      What is first a egg or an hen?             1   \n",
       "19837   What is the difference between amphibians and ...             0   \n",
       "105551               How can someone control their anger?             1   \n",
       "\n",
       "        q1_length  q2_length  common words  word share  cwc_min  cwc_max  \\\n",
       "95873          14         14             6       0.214    0.429    0.429   \n",
       "262013          4          4             1       0.125    0.250    0.250   \n",
       "85654           7          8             4       0.267    0.571    0.500   \n",
       "19837           9          8             8       0.471    1.000    0.889   \n",
       "105551          9          6             2       0.133    0.333    0.222   \n",
       "\n",
       "        first word equal  last word equal  difference in no.of words  \\\n",
       "95873                  1                0                          0   \n",
       "262013                 0                0                          0   \n",
       "85654                  0                1                          1   \n",
       "19837                  1                0                          1   \n",
       "105551                 0                1                          3   \n",
       "\n",
       "        avg length of words  \n",
       "95873                  14.0  \n",
       "262013                  4.0  \n",
       "85654                   7.5  \n",
       "19837                   8.5  \n",
       "105551                  7.5  "
      ]
     },
     "execution_count": 31,
     "metadata": {},
     "output_type": "execute_result"
    }
   ],
   "source": [
    "(xy_train.head(5))"
   ]
  },
  {
   "cell_type": "markdown",
   "id": "a9b239fc",
   "metadata": {
    "id": "a9b239fc"
   },
   "source": [
    "#  Feature Extraction: Test set"
   ]
  },
  {
   "cell_type": "code",
   "execution_count": 32,
   "id": "54abe0ce",
   "metadata": {
    "id": "54abe0ce"
   },
   "outputs": [],
   "source": [
    "# Length of sentence\n",
    "q1_test_len = [len(i.split()) for i in q1_test_clean]\n",
    "q2_test_len = [len(j.split()) for j in q2_test_clean]\n",
    "\n",
    "# Common words between two sentences\n",
    "def comm(k):\n",
    "    w1 = set(map(lambda word: word.lower().strip(), q1_test_clean[k].split(\" \"))) \n",
    "    w2 = set(map(lambda word: word.lower().strip(), q2_test_clean[k].split(\" \")))    \n",
    "    return len(w1&w2)\n",
    "common_test = [comm(r) for r in range(len(q1_test_clean))] # storing the number of common words\n",
    "\n",
    "# Word_share: (common_word_count/total number of words)\n",
    "\n",
    "total_test = [a+b for a,b in zip(q1_test_len,q2_test_len)]\n",
    "word_share_test = [round((c/d),3) for c,d in zip(common_test,total_test)] \n",
    "\n",
    "# cwc_min & cwc_max: (Ratio of common_word_count to min & max length of word count of Q1 and Q2)\n",
    "\n",
    "min_len_test = [min(u,t) for u,t in zip(q1_test_len,q2_test_len)] # this returns length of either Q1 or Q2, whichever has minimum one.\n",
    "max_len_test = [max(u_,t_) for u_,t_ in zip(q1_test_len,q2_test_len)] # this returns length of either Q1 or Q2, whichever has maximum one.\n",
    "\n",
    "cwc_min_test = [round((e/f),3) if f!=0 else 0 for e,f in zip(common_test,min_len_test)] #if min_len =0, appending zero to avoid zero divison error\n",
    "cwc_max_test = [round((e/f),3) for e,f in zip(common_test,max_len_test)]\n",
    "\n",
    "# first word equal or not:\n",
    "\n",
    "first_word_test = []\n",
    "for g in range(len(q1_test_clean)):\n",
    "    if len(q1_test_clean[g].split()) != 0 and len(q2_test_clean[g].split()) != 0: # handling the condition when length of question = 0\n",
    "        s3 = q1_test_clean[g].split()[0]\n",
    "        s4 = q2_test_clean[g].split()[0]\n",
    "    \n",
    "        if s3 == s4:\n",
    "            first_word_test.append(1) # if first word of Q1 & Q2 is same, append 1\n",
    "        else:\n",
    "            first_word_test.append(0) # if first word of Q1 & Q2 is NOT same, append 0\n",
    "    else:\n",
    "        first_word_test.append(0)\n",
    "        \n",
    "\n",
    "# last word equal or not:\n",
    "last_word_test = []\n",
    "for g in range(len(q1_test_clean)):\n",
    "    if len(q1_test_clean[g].split()) != 0 and len(q2_test_clean[g].split()) != 0:\n",
    "        s3 = q1_test_clean[g].split()[-1]\n",
    "        s4 = q2_test_clean[g].split()[-1]\n",
    "        if s3 == s4: \n",
    "            last_word_test.append(1) # if last word of Q1 & Q2 is same, append 1. Else 0\n",
    "        else:\n",
    "            last_word_test.append(0)\n",
    "    else:\n",
    "        last_word_test.append(0)\n",
    "        \n",
    "len_diff_test = [abs(t1-t2) for t1,t2 in zip(q1_test_len,q2_test_len)] #this returns absolute difference between number of words in Q1 & Q2\n",
    "avg_len_test = [(t1+t2)/2 for t1,t2 in zip(q1_test_len,q2_test_len)] #this returns average number of words in Q1 & Q2"
   ]
  },
  {
   "cell_type": "code",
   "execution_count": 33,
   "id": "ebeaa076",
   "metadata": {
    "id": "ebeaa076"
   },
   "outputs": [],
   "source": [
    "# Adding these new extracted features to the test set\n",
    "\n",
    "xy_test['q1_length'] = q1_test_len\n",
    "xy_test['q2_length'] = q2_test_len\n",
    "xy_test['common words'] = common_test\n",
    "xy_test['word share'] = word_share_test\n",
    "xy_test['cwc_min'] = cwc_min_test\n",
    "xy_test['cwc_max'] = cwc_max_test\n",
    "xy_test['first word equal'] = first_word_test\n",
    "xy_test['last word equal'] = last_word_test\n",
    "xy_test['difference in no.of words'] = len_diff_test\n",
    "xy_test['avg length of words'] = avg_len_test"
   ]
  },
  {
   "cell_type": "code",
   "execution_count": 34,
   "id": "0d2d54b6",
   "metadata": {
    "colab": {
     "base_uri": "https://localhost:8080/",
     "height": 721
    },
    "id": "0d2d54b6",
    "outputId": "405775b3-ee0a-4fa8-e426-9c2264ad1dbf"
   },
   "outputs": [
    {
     "data": {
      "text/html": [
       "<div>\n",
       "<style scoped>\n",
       "    .dataframe tbody tr th:only-of-type {\n",
       "        vertical-align: middle;\n",
       "    }\n",
       "\n",
       "    .dataframe tbody tr th {\n",
       "        vertical-align: top;\n",
       "    }\n",
       "\n",
       "    .dataframe thead th {\n",
       "        text-align: right;\n",
       "    }\n",
       "</style>\n",
       "<table border=\"1\" class=\"dataframe\">\n",
       "  <thead>\n",
       "    <tr style=\"text-align: right;\">\n",
       "      <th></th>\n",
       "      <th>id</th>\n",
       "      <th>qid1</th>\n",
       "      <th>qid2</th>\n",
       "      <th>question1</th>\n",
       "      <th>question2</th>\n",
       "      <th>is_duplicate</th>\n",
       "      <th>q1_length</th>\n",
       "      <th>q2_length</th>\n",
       "      <th>common words</th>\n",
       "      <th>word share</th>\n",
       "      <th>cwc_min</th>\n",
       "      <th>cwc_max</th>\n",
       "      <th>first word equal</th>\n",
       "      <th>last word equal</th>\n",
       "      <th>difference in no.of words</th>\n",
       "      <th>avg length of words</th>\n",
       "    </tr>\n",
       "  </thead>\n",
       "  <tbody>\n",
       "    <tr>\n",
       "      <th>35865</th>\n",
       "      <td>35865</td>\n",
       "      <td>21439</td>\n",
       "      <td>44790</td>\n",
       "      <td>Any specific ideas for mechanical final year p...</td>\n",
       "      <td>What would be some final year projects for mec...</td>\n",
       "      <td>1</td>\n",
       "      <td>8</td>\n",
       "      <td>13</td>\n",
       "      <td>5</td>\n",
       "      <td>0.238</td>\n",
       "      <td>0.625</td>\n",
       "      <td>0.385</td>\n",
       "      <td>0</td>\n",
       "      <td>0</td>\n",
       "      <td>5</td>\n",
       "      <td>10.5</td>\n",
       "    </tr>\n",
       "    <tr>\n",
       "      <th>83858</th>\n",
       "      <td>83858</td>\n",
       "      <td>141872</td>\n",
       "      <td>141873</td>\n",
       "      <td>Can one travel to both belarus and russia with...</td>\n",
       "      <td>Can one travel to Russia on a Belarusian visa?</td>\n",
       "      <td>1</td>\n",
       "      <td>25</td>\n",
       "      <td>9</td>\n",
       "      <td>8</td>\n",
       "      <td>0.235</td>\n",
       "      <td>0.889</td>\n",
       "      <td>0.320</td>\n",
       "      <td>1</td>\n",
       "      <td>0</td>\n",
       "      <td>16</td>\n",
       "      <td>17.0</td>\n",
       "    </tr>\n",
       "    <tr>\n",
       "      <th>246204</th>\n",
       "      <td>246204</td>\n",
       "      <td>359209</td>\n",
       "      <td>359210</td>\n",
       "      <td>What was the best memory of your childhood?</td>\n",
       "      <td>What was the best memory during your childhood?</td>\n",
       "      <td>1</td>\n",
       "      <td>8</td>\n",
       "      <td>8</td>\n",
       "      <td>7</td>\n",
       "      <td>0.438</td>\n",
       "      <td>0.875</td>\n",
       "      <td>0.875</td>\n",
       "      <td>1</td>\n",
       "      <td>1</td>\n",
       "      <td>0</td>\n",
       "      <td>8.0</td>\n",
       "    </tr>\n",
       "    <tr>\n",
       "      <th>6448</th>\n",
       "      <td>6448</td>\n",
       "      <td>12630</td>\n",
       "      <td>12631</td>\n",
       "      <td>How long do ants live?</td>\n",
       "      <td>How long does an ant typically live?</td>\n",
       "      <td>1</td>\n",
       "      <td>5</td>\n",
       "      <td>7</td>\n",
       "      <td>4</td>\n",
       "      <td>0.333</td>\n",
       "      <td>0.800</td>\n",
       "      <td>0.571</td>\n",
       "      <td>1</td>\n",
       "      <td>1</td>\n",
       "      <td>2</td>\n",
       "      <td>6.0</td>\n",
       "    </tr>\n",
       "    <tr>\n",
       "      <th>158190</th>\n",
       "      <td>158190</td>\n",
       "      <td>247180</td>\n",
       "      <td>247181</td>\n",
       "      <td>How do you stop cramps without medicine?</td>\n",
       "      <td>Hw can I stop period cramps without medicine?</td>\n",
       "      <td>1</td>\n",
       "      <td>7</td>\n",
       "      <td>8</td>\n",
       "      <td>4</td>\n",
       "      <td>0.267</td>\n",
       "      <td>0.571</td>\n",
       "      <td>0.500</td>\n",
       "      <td>0</td>\n",
       "      <td>1</td>\n",
       "      <td>1</td>\n",
       "      <td>7.5</td>\n",
       "    </tr>\n",
       "  </tbody>\n",
       "</table>\n",
       "</div>"
      ],
      "text/plain": [
       "            id    qid1    qid2  \\\n",
       "35865    35865   21439   44790   \n",
       "83858    83858  141872  141873   \n",
       "246204  246204  359209  359210   \n",
       "6448      6448   12630   12631   \n",
       "158190  158190  247180  247181   \n",
       "\n",
       "                                                question1  \\\n",
       "35865   Any specific ideas for mechanical final year p...   \n",
       "83858   Can one travel to both belarus and russia with...   \n",
       "246204        What was the best memory of your childhood?   \n",
       "6448                               How long do ants live?   \n",
       "158190           How do you stop cramps without medicine?   \n",
       "\n",
       "                                                question2  is_duplicate  \\\n",
       "35865   What would be some final year projects for mec...             1   \n",
       "83858      Can one travel to Russia on a Belarusian visa?             1   \n",
       "246204    What was the best memory during your childhood?             1   \n",
       "6448                 How long does an ant typically live?             1   \n",
       "158190      Hw can I stop period cramps without medicine?             1   \n",
       "\n",
       "        q1_length  q2_length  common words  word share  cwc_min  cwc_max  \\\n",
       "35865           8         13             5       0.238    0.625    0.385   \n",
       "83858          25          9             8       0.235    0.889    0.320   \n",
       "246204          8          8             7       0.438    0.875    0.875   \n",
       "6448            5          7             4       0.333    0.800    0.571   \n",
       "158190          7          8             4       0.267    0.571    0.500   \n",
       "\n",
       "        first word equal  last word equal  difference in no.of words  \\\n",
       "35865                  0                0                          5   \n",
       "83858                  1                0                         16   \n",
       "246204                 1                1                          0   \n",
       "6448                   1                1                          2   \n",
       "158190                 0                1                          1   \n",
       "\n",
       "        avg length of words  \n",
       "35865                  10.5  \n",
       "83858                  17.0  \n",
       "246204                  8.0  \n",
       "6448                    6.0  \n",
       "158190                  7.5  "
      ]
     },
     "execution_count": 34,
     "metadata": {},
     "output_type": "execute_result"
    }
   ],
   "source": [
    "xy_test.head(5)"
   ]
  },
  {
   "cell_type": "markdown",
   "id": "16015997",
   "metadata": {
    "id": "16015997"
   },
   "source": [
    "# Advanced Feature Extraction (Fuzzwuzzy) : Train set"
   ]
  },
  {
   "cell_type": "markdown",
   "id": "f9306604",
   "metadata": {},
   "source": [
    "https://towardsdatascience.com/string-matching-with-fuzzywuzzy-e982c61f8a84"
   ]
  },
  {
   "cell_type": "code",
   "execution_count": 35,
   "id": "df10dac0",
   "metadata": {
    "id": "df10dac0"
   },
   "outputs": [],
   "source": [
    "# To get longest substring ratio\n",
    "\n",
    "def lsubstring_ratio(a, b): # abcdxyz, abcdefg ---> 4\n",
    "    strs = list(distance.lcsubstrings(a, b)) # This returns the length of longest common substring\n",
    "    if len(strs) == 0:\n",
    "        return 0\n",
    "    else:\n",
    "        return len(strs[0]) / (min(len(a), len(b)) + 1) # This gives us the LCS ratio\n",
    "\n",
    "# partial ratio:\n",
    "partial = [fuzz.partial_ratio(k.split(),l.split()) for k,l in zip(q1_train_clean,q2_train_clean)]\n",
    "\n",
    "# token sort ratio:\n",
    "token_sort = [fuzz.token_sort_ratio(k.split(),l.split()) for k,l in zip(q1_train_clean,q2_train_clean)]\n",
    "\n",
    "# token set ratio:\n",
    "token_set = [fuzz.token_set_ratio(k.split(),l.split()) for k,l in zip(q1_train_clean,q2_train_clean)]\n",
    "\n",
    "# WRatio:\n",
    "wratio = [fuzz.WRatio(k.split(),l.split()) for k,l in zip(q1_train_clean,q2_train_clean)]\n",
    "\n",
    "# LCSubstring ratio\n",
    "lcs = [lsubstring_ratio(k,l) for k,l in zip(q1_train_clean,q2_train_clean)]\n"
   ]
  },
  {
   "cell_type": "code",
   "execution_count": 36,
   "id": "fce70964",
   "metadata": {
    "id": "fce70964"
   },
   "outputs": [],
   "source": [
    "# Adding these new advanced features to the dataframe:\n",
    "\n",
    "xy_train[\"token_set_ratio\"] = token_set\n",
    "xy_train[\"token_sort_ratio\"] = token_sort\n",
    "xy_train[\"fuzz_WRatio\"] = wratio\n",
    "xy_train[\"fuzz_partial_ratio\"] = partial\n",
    "xy_train[\"longest_substr_ratio\"]  = lcs"
   ]
  },
  {
   "cell_type": "code",
   "execution_count": 37,
   "id": "21cf57fc",
   "metadata": {
    "colab": {
     "base_uri": "https://localhost:8080/",
     "height": 699
    },
    "id": "21cf57fc",
    "outputId": "c2f0b2e8-143a-485c-ec5b-c9e163bea998"
   },
   "outputs": [
    {
     "data": {
      "text/html": [
       "<div>\n",
       "<style scoped>\n",
       "    .dataframe tbody tr th:only-of-type {\n",
       "        vertical-align: middle;\n",
       "    }\n",
       "\n",
       "    .dataframe tbody tr th {\n",
       "        vertical-align: top;\n",
       "    }\n",
       "\n",
       "    .dataframe thead th {\n",
       "        text-align: right;\n",
       "    }\n",
       "</style>\n",
       "<table border=\"1\" class=\"dataframe\">\n",
       "  <thead>\n",
       "    <tr style=\"text-align: right;\">\n",
       "      <th></th>\n",
       "      <th>id</th>\n",
       "      <th>qid1</th>\n",
       "      <th>qid2</th>\n",
       "      <th>question1</th>\n",
       "      <th>question2</th>\n",
       "      <th>is_duplicate</th>\n",
       "      <th>q1_length</th>\n",
       "      <th>q2_length</th>\n",
       "      <th>common words</th>\n",
       "      <th>word share</th>\n",
       "      <th>...</th>\n",
       "      <th>cwc_max</th>\n",
       "      <th>first word equal</th>\n",
       "      <th>last word equal</th>\n",
       "      <th>difference in no.of words</th>\n",
       "      <th>avg length of words</th>\n",
       "      <th>token_set_ratio</th>\n",
       "      <th>token_sort_ratio</th>\n",
       "      <th>fuzz_WRatio</th>\n",
       "      <th>fuzz_partial_ratio</th>\n",
       "      <th>longest_substr_ratio</th>\n",
       "    </tr>\n",
       "  </thead>\n",
       "  <tbody>\n",
       "    <tr>\n",
       "      <th>95873</th>\n",
       "      <td>95873</td>\n",
       "      <td>21712</td>\n",
       "      <td>5041</td>\n",
       "      <td>Why do people often ask questions in Quora whi...</td>\n",
       "      <td>Why do people ask questions whose answer can b...</td>\n",
       "      <td>1</td>\n",
       "      <td>14</td>\n",
       "      <td>14</td>\n",
       "      <td>6</td>\n",
       "      <td>0.214</td>\n",
       "      <td>...</td>\n",
       "      <td>0.429</td>\n",
       "      <td>1</td>\n",
       "      <td>0</td>\n",
       "      <td>0</td>\n",
       "      <td>14.0</td>\n",
       "      <td>66</td>\n",
       "      <td>63</td>\n",
       "      <td>70</td>\n",
       "      <td>70</td>\n",
       "      <td>0.184211</td>\n",
       "    </tr>\n",
       "    <tr>\n",
       "      <th>262013</th>\n",
       "      <td>262013</td>\n",
       "      <td>74232</td>\n",
       "      <td>33958</td>\n",
       "      <td>What are lucid dreams?</td>\n",
       "      <td>Is Lucid dreaming possible?</td>\n",
       "      <td>0</td>\n",
       "      <td>4</td>\n",
       "      <td>4</td>\n",
       "      <td>1</td>\n",
       "      <td>0.125</td>\n",
       "      <td>...</td>\n",
       "      <td>0.250</td>\n",
       "      <td>0</td>\n",
       "      <td>0</td>\n",
       "      <td>0</td>\n",
       "      <td>4.0</td>\n",
       "      <td>52</td>\n",
       "      <td>52</td>\n",
       "      <td>56</td>\n",
       "      <td>61</td>\n",
       "      <td>0.476190</td>\n",
       "    </tr>\n",
       "    <tr>\n",
       "      <th>85654</th>\n",
       "      <td>85654</td>\n",
       "      <td>144574</td>\n",
       "      <td>144575</td>\n",
       "      <td>Who came first, egg or the hen?</td>\n",
       "      <td>What is first a egg or an hen?</td>\n",
       "      <td>1</td>\n",
       "      <td>7</td>\n",
       "      <td>8</td>\n",
       "      <td>4</td>\n",
       "      <td>0.267</td>\n",
       "      <td>...</td>\n",
       "      <td>0.500</td>\n",
       "      <td>0</td>\n",
       "      <td>1</td>\n",
       "      <td>1</td>\n",
       "      <td>7.5</td>\n",
       "      <td>76</td>\n",
       "      <td>72</td>\n",
       "      <td>80</td>\n",
       "      <td>78</td>\n",
       "      <td>0.266667</td>\n",
       "    </tr>\n",
       "    <tr>\n",
       "      <th>19837</th>\n",
       "      <td>19837</td>\n",
       "      <td>37476</td>\n",
       "      <td>37477</td>\n",
       "      <td>What is the difference between reptiles, amphi...</td>\n",
       "      <td>What is the difference between amphibians and ...</td>\n",
       "      <td>0</td>\n",
       "      <td>9</td>\n",
       "      <td>8</td>\n",
       "      <td>8</td>\n",
       "      <td>0.471</td>\n",
       "      <td>...</td>\n",
       "      <td>0.889</td>\n",
       "      <td>1</td>\n",
       "      <td>0</td>\n",
       "      <td>1</td>\n",
       "      <td>8.5</td>\n",
       "      <td>100</td>\n",
       "      <td>94</td>\n",
       "      <td>95</td>\n",
       "      <td>86</td>\n",
       "      <td>0.584906</td>\n",
       "    </tr>\n",
       "    <tr>\n",
       "      <th>105551</th>\n",
       "      <td>105551</td>\n",
       "      <td>11605</td>\n",
       "      <td>1310</td>\n",
       "      <td>What would be the best way to control anger?</td>\n",
       "      <td>How can someone control their anger?</td>\n",
       "      <td>1</td>\n",
       "      <td>9</td>\n",
       "      <td>6</td>\n",
       "      <td>2</td>\n",
       "      <td>0.133</td>\n",
       "      <td>...</td>\n",
       "      <td>0.222</td>\n",
       "      <td>0</td>\n",
       "      <td>1</td>\n",
       "      <td>3</td>\n",
       "      <td>7.5</td>\n",
       "      <td>54</td>\n",
       "      <td>51</td>\n",
       "      <td>56</td>\n",
       "      <td>61</td>\n",
       "      <td>0.250000</td>\n",
       "    </tr>\n",
       "  </tbody>\n",
       "</table>\n",
       "<p>5 rows × 21 columns</p>\n",
       "</div>"
      ],
      "text/plain": [
       "            id    qid1    qid2  \\\n",
       "95873    95873   21712    5041   \n",
       "262013  262013   74232   33958   \n",
       "85654    85654  144574  144575   \n",
       "19837    19837   37476   37477   \n",
       "105551  105551   11605    1310   \n",
       "\n",
       "                                                question1  \\\n",
       "95873   Why do people often ask questions in Quora whi...   \n",
       "262013                             What are lucid dreams?   \n",
       "85654                     Who came first, egg or the hen?   \n",
       "19837   What is the difference between reptiles, amphi...   \n",
       "105551       What would be the best way to control anger?   \n",
       "\n",
       "                                                question2  is_duplicate  \\\n",
       "95873   Why do people ask questions whose answer can b...             1   \n",
       "262013                        Is Lucid dreaming possible?             0   \n",
       "85654                      What is first a egg or an hen?             1   \n",
       "19837   What is the difference between amphibians and ...             0   \n",
       "105551               How can someone control their anger?             1   \n",
       "\n",
       "        q1_length  q2_length  common words  word share  ...  cwc_max  \\\n",
       "95873          14         14             6       0.214  ...    0.429   \n",
       "262013          4          4             1       0.125  ...    0.250   \n",
       "85654           7          8             4       0.267  ...    0.500   \n",
       "19837           9          8             8       0.471  ...    0.889   \n",
       "105551          9          6             2       0.133  ...    0.222   \n",
       "\n",
       "        first word equal  last word equal  difference in no.of words  \\\n",
       "95873                  1                0                          0   \n",
       "262013                 0                0                          0   \n",
       "85654                  0                1                          1   \n",
       "19837                  1                0                          1   \n",
       "105551                 0                1                          3   \n",
       "\n",
       "        avg length of words  token_set_ratio  token_sort_ratio  fuzz_WRatio  \\\n",
       "95873                  14.0               66                63           70   \n",
       "262013                  4.0               52                52           56   \n",
       "85654                   7.5               76                72           80   \n",
       "19837                   8.5              100                94           95   \n",
       "105551                  7.5               54                51           56   \n",
       "\n",
       "        fuzz_partial_ratio  longest_substr_ratio  \n",
       "95873                   70              0.184211  \n",
       "262013                  61              0.476190  \n",
       "85654                   78              0.266667  \n",
       "19837                   86              0.584906  \n",
       "105551                  61              0.250000  \n",
       "\n",
       "[5 rows x 21 columns]"
      ]
     },
     "execution_count": 37,
     "metadata": {},
     "output_type": "execute_result"
    }
   ],
   "source": [
    "xy_train.head()"
   ]
  },
  {
   "cell_type": "code",
   "execution_count": 38,
   "id": "YHh7LMIVR6or",
   "metadata": {
    "id": "YHh7LMIVR6or"
   },
   "outputs": [],
   "source": [
    "xy_train.to_csv('train.csv')"
   ]
  },
  {
   "cell_type": "markdown",
   "id": "c4700090",
   "metadata": {
    "id": "c4700090"
   },
   "source": [
    "# Advanced Feature Extraction (Fuzzwuzzy) : Test set"
   ]
  },
  {
   "cell_type": "code",
   "execution_count": 39,
   "id": "93031cac",
   "metadata": {
    "id": "93031cac"
   },
   "outputs": [],
   "source": [
    "# To get longest substring ratio\n",
    "\n",
    "def lsubstring_ratio(a, b):\n",
    "    strs = list(distance.lcsubstrings(a, b)) # This returns the length of longest common substring\n",
    "    if len(strs) == 0:\n",
    "        return 0\n",
    "    else:\n",
    "        return len(strs[0]) / (min(len(a), len(b)) + 1) # This gives us the LCS ratio\n",
    "\n",
    "# partial ratio:\n",
    "partial_test = [fuzz.partial_ratio(k.split(),l.split()) for k,l in zip(q1_test_clean,q2_test_clean)]\n",
    "\n",
    "# token sort ratio:\n",
    "token_sort_test = [fuzz.token_sort_ratio(k.split(),l.split()) for k,l in zip(q1_test_clean,q2_test_clean)]\n",
    "\n",
    "# token set ratio:\n",
    "token_set_test = [fuzz.token_set_ratio(k.split(),l.split()) for k,l in zip(q1_test_clean,q2_test_clean)]\n",
    "\n",
    "# WRatio:\n",
    "wratio_test = [fuzz.WRatio(k.split(),l.split()) for k,l in zip(q1_test_clean,q2_test_clean)]\n",
    "\n",
    "# LCSubstring ratio\n",
    "lcs_test = [lsubstring_ratio(k,l) for k,l in zip(q1_test_clean,q2_test_clean)]\n"
   ]
  },
  {
   "cell_type": "code",
   "execution_count": 40,
   "id": "b1d085d8",
   "metadata": {
    "id": "b1d085d8"
   },
   "outputs": [],
   "source": [
    "# Adding these new advanced features to the dataframe:\n",
    "\n",
    "xy_test[\"token_set_ratio\"] = token_set_test\n",
    "xy_test[\"token_sort_ratio\"] = token_sort_test\n",
    "xy_test[\"fuzz_WRatio\"] = wratio_test\n",
    "xy_test[\"fuzz_partial_ratio\"] = partial_test\n",
    "xy_test[\"longest_substr_ratio\"]  = lcs_test"
   ]
  },
  {
   "cell_type": "code",
   "execution_count": 41,
   "id": "80be74e0",
   "metadata": {
    "colab": {
     "base_uri": "https://localhost:8080/",
     "height": 751
    },
    "id": "80be74e0",
    "outputId": "65569acf-cf13-4992-a82b-190079d04dd1"
   },
   "outputs": [
    {
     "data": {
      "text/html": [
       "<div>\n",
       "<style scoped>\n",
       "    .dataframe tbody tr th:only-of-type {\n",
       "        vertical-align: middle;\n",
       "    }\n",
       "\n",
       "    .dataframe tbody tr th {\n",
       "        vertical-align: top;\n",
       "    }\n",
       "\n",
       "    .dataframe thead th {\n",
       "        text-align: right;\n",
       "    }\n",
       "</style>\n",
       "<table border=\"1\" class=\"dataframe\">\n",
       "  <thead>\n",
       "    <tr style=\"text-align: right;\">\n",
       "      <th></th>\n",
       "      <th>id</th>\n",
       "      <th>qid1</th>\n",
       "      <th>qid2</th>\n",
       "      <th>question1</th>\n",
       "      <th>question2</th>\n",
       "      <th>is_duplicate</th>\n",
       "      <th>q1_length</th>\n",
       "      <th>q2_length</th>\n",
       "      <th>common words</th>\n",
       "      <th>word share</th>\n",
       "      <th>...</th>\n",
       "      <th>cwc_max</th>\n",
       "      <th>first word equal</th>\n",
       "      <th>last word equal</th>\n",
       "      <th>difference in no.of words</th>\n",
       "      <th>avg length of words</th>\n",
       "      <th>token_set_ratio</th>\n",
       "      <th>token_sort_ratio</th>\n",
       "      <th>fuzz_WRatio</th>\n",
       "      <th>fuzz_partial_ratio</th>\n",
       "      <th>longest_substr_ratio</th>\n",
       "    </tr>\n",
       "  </thead>\n",
       "  <tbody>\n",
       "    <tr>\n",
       "      <th>35865</th>\n",
       "      <td>35865</td>\n",
       "      <td>21439</td>\n",
       "      <td>44790</td>\n",
       "      <td>Any specific ideas for mechanical final year p...</td>\n",
       "      <td>What would be some final year projects for mec...</td>\n",
       "      <td>1</td>\n",
       "      <td>8</td>\n",
       "      <td>13</td>\n",
       "      <td>5</td>\n",
       "      <td>0.238</td>\n",
       "      <td>...</td>\n",
       "      <td>0.385</td>\n",
       "      <td>0</td>\n",
       "      <td>0</td>\n",
       "      <td>5</td>\n",
       "      <td>10.5</td>\n",
       "      <td>79</td>\n",
       "      <td>60</td>\n",
       "      <td>86</td>\n",
       "      <td>66</td>\n",
       "      <td>0.365385</td>\n",
       "    </tr>\n",
       "    <tr>\n",
       "      <th>83858</th>\n",
       "      <td>83858</td>\n",
       "      <td>141872</td>\n",
       "      <td>141873</td>\n",
       "      <td>Can one travel to both belarus and russia with...</td>\n",
       "      <td>Can one travel to Russia on a Belarusian visa?</td>\n",
       "      <td>1</td>\n",
       "      <td>25</td>\n",
       "      <td>9</td>\n",
       "      <td>8</td>\n",
       "      <td>0.235</td>\n",
       "      <td>...</td>\n",
       "      <td>0.320</td>\n",
       "      <td>1</td>\n",
       "      <td>0</td>\n",
       "      <td>16</td>\n",
       "      <td>17.0</td>\n",
       "      <td>86</td>\n",
       "      <td>54</td>\n",
       "      <td>86</td>\n",
       "      <td>85</td>\n",
       "      <td>0.391304</td>\n",
       "    </tr>\n",
       "    <tr>\n",
       "      <th>246204</th>\n",
       "      <td>246204</td>\n",
       "      <td>359209</td>\n",
       "      <td>359210</td>\n",
       "      <td>What was the best memory of your childhood?</td>\n",
       "      <td>What was the best memory during your childhood?</td>\n",
       "      <td>1</td>\n",
       "      <td>8</td>\n",
       "      <td>8</td>\n",
       "      <td>7</td>\n",
       "      <td>0.438</td>\n",
       "      <td>...</td>\n",
       "      <td>0.875</td>\n",
       "      <td>1</td>\n",
       "      <td>1</td>\n",
       "      <td>0</td>\n",
       "      <td>8.0</td>\n",
       "      <td>96</td>\n",
       "      <td>88</td>\n",
       "      <td>94</td>\n",
       "      <td>91</td>\n",
       "      <td>0.571429</td>\n",
       "    </tr>\n",
       "    <tr>\n",
       "      <th>6448</th>\n",
       "      <td>6448</td>\n",
       "      <td>12630</td>\n",
       "      <td>12631</td>\n",
       "      <td>How long do ants live?</td>\n",
       "      <td>How long does an ant typically live?</td>\n",
       "      <td>1</td>\n",
       "      <td>5</td>\n",
       "      <td>7</td>\n",
       "      <td>4</td>\n",
       "      <td>0.333</td>\n",
       "      <td>...</td>\n",
       "      <td>0.571</td>\n",
       "      <td>1</td>\n",
       "      <td>1</td>\n",
       "      <td>2</td>\n",
       "      <td>6.0</td>\n",
       "      <td>92</td>\n",
       "      <td>74</td>\n",
       "      <td>86</td>\n",
       "      <td>83</td>\n",
       "      <td>0.523810</td>\n",
       "    </tr>\n",
       "    <tr>\n",
       "      <th>158190</th>\n",
       "      <td>158190</td>\n",
       "      <td>247180</td>\n",
       "      <td>247181</td>\n",
       "      <td>How do you stop cramps without medicine?</td>\n",
       "      <td>Hw can I stop period cramps without medicine?</td>\n",
       "      <td>1</td>\n",
       "      <td>7</td>\n",
       "      <td>8</td>\n",
       "      <td>4</td>\n",
       "      <td>0.267</td>\n",
       "      <td>...</td>\n",
       "      <td>0.500</td>\n",
       "      <td>0</td>\n",
       "      <td>1</td>\n",
       "      <td>1</td>\n",
       "      <td>7.5</td>\n",
       "      <td>83</td>\n",
       "      <td>74</td>\n",
       "      <td>83</td>\n",
       "      <td>80</td>\n",
       "      <td>0.589744</td>\n",
       "    </tr>\n",
       "  </tbody>\n",
       "</table>\n",
       "<p>5 rows × 21 columns</p>\n",
       "</div>"
      ],
      "text/plain": [
       "            id    qid1    qid2  \\\n",
       "35865    35865   21439   44790   \n",
       "83858    83858  141872  141873   \n",
       "246204  246204  359209  359210   \n",
       "6448      6448   12630   12631   \n",
       "158190  158190  247180  247181   \n",
       "\n",
       "                                                question1  \\\n",
       "35865   Any specific ideas for mechanical final year p...   \n",
       "83858   Can one travel to both belarus and russia with...   \n",
       "246204        What was the best memory of your childhood?   \n",
       "6448                               How long do ants live?   \n",
       "158190           How do you stop cramps without medicine?   \n",
       "\n",
       "                                                question2  is_duplicate  \\\n",
       "35865   What would be some final year projects for mec...             1   \n",
       "83858      Can one travel to Russia on a Belarusian visa?             1   \n",
       "246204    What was the best memory during your childhood?             1   \n",
       "6448                 How long does an ant typically live?             1   \n",
       "158190      Hw can I stop period cramps without medicine?             1   \n",
       "\n",
       "        q1_length  q2_length  common words  word share  ...  cwc_max  \\\n",
       "35865           8         13             5       0.238  ...    0.385   \n",
       "83858          25          9             8       0.235  ...    0.320   \n",
       "246204          8          8             7       0.438  ...    0.875   \n",
       "6448            5          7             4       0.333  ...    0.571   \n",
       "158190          7          8             4       0.267  ...    0.500   \n",
       "\n",
       "        first word equal  last word equal  difference in no.of words  \\\n",
       "35865                  0                0                          5   \n",
       "83858                  1                0                         16   \n",
       "246204                 1                1                          0   \n",
       "6448                   1                1                          2   \n",
       "158190                 0                1                          1   \n",
       "\n",
       "        avg length of words  token_set_ratio  token_sort_ratio  fuzz_WRatio  \\\n",
       "35865                  10.5               79                60           86   \n",
       "83858                  17.0               86                54           86   \n",
       "246204                  8.0               96                88           94   \n",
       "6448                    6.0               92                74           86   \n",
       "158190                  7.5               83                74           83   \n",
       "\n",
       "        fuzz_partial_ratio  longest_substr_ratio  \n",
       "35865                   66              0.365385  \n",
       "83858                   85              0.391304  \n",
       "246204                  91              0.571429  \n",
       "6448                    83              0.523810  \n",
       "158190                  80              0.589744  \n",
       "\n",
       "[5 rows x 21 columns]"
      ]
     },
     "execution_count": 41,
     "metadata": {},
     "output_type": "execute_result"
    }
   ],
   "source": [
    "xy_test.head()"
   ]
  },
  {
   "cell_type": "code",
   "execution_count": 42,
   "id": "__S7mSJoR_2i",
   "metadata": {
    "id": "__S7mSJoR_2i"
   },
   "outputs": [],
   "source": [
    "xy_test.to_csv(\"test.csv\")"
   ]
  },
  {
   "cell_type": "code",
   "execution_count": 44,
   "id": "FQi2FQU0r11P",
   "metadata": {
    "id": "FQi2FQU0r11P"
   },
   "outputs": [],
   "source": [
    "#xy_train = pd.read_csv(\"/content/train.csv\")\n",
    "#xy_test = pd.read_csv(\"/content/test.csv\")"
   ]
  },
  {
   "cell_type": "markdown",
   "id": "7112b5b0",
   "metadata": {
    "id": "7112b5b0"
   },
   "source": [
    "# Data Visualization :"
   ]
  },
  {
   "cell_type": "markdown",
   "id": "6667b4ad",
   "metadata": {
    "id": "6667b4ad"
   },
   "source": [
    "# Wordcloud"
   ]
  },
  {
   "cell_type": "code",
   "execution_count": 45,
   "id": "91ed703d",
   "metadata": {
    "id": "91ed703d"
   },
   "outputs": [],
   "source": [
    "duplicate = xy_train[xy_train['is_duplicate'] == 1] # Storing data having class label as 1 \n",
    "not_duplicate = xy_train[xy_train['is_duplicate'] == 0] # Storing data having class label as 0 \n",
    "\n",
    "similar = np.dstack([duplicate[\"question1\"],duplicate[\"question2\"]]).flatten()\n",
    "no_similar = np.dstack([not_duplicate[\"question1\"], not_duplicate[\"question2\"]]).flatten()"
   ]
  },
  {
   "cell_type": "code",
   "execution_count": 46,
   "id": "6caaac4d",
   "metadata": {
    "colab": {
     "base_uri": "https://localhost:8080/"
    },
    "id": "6caaac4d",
    "outputId": "ed07a77b-f2e8-4fb1-e098-292b1d1f1fd3"
   },
   "outputs": [
    {
     "name": "stdout",
     "output_type": "stream",
     "text": [
      "[[[1 4]\n",
      "  [2 5]\n",
      "  [3 6]]]\n",
      "[1 4 2 5 3 6]\n"
     ]
    }
   ],
   "source": [
    "# An example of using np.dstack and flatten() operation:\n",
    "gfg1 = np.array([1, 2, 3])\n",
    "gfg2 = np.array([4, 5, 6])\n",
    "\n",
    "print(np.dstack((gfg1, gfg2)))\n",
    "print(np.dstack((gfg1, gfg2)).flatten())\n"
   ]
  },
  {
   "cell_type": "code",
   "execution_count": 47,
   "id": "95847fb0",
   "metadata": {
    "colab": {
     "base_uri": "https://localhost:8080/"
    },
    "id": "95847fb0",
    "outputId": "b641937e-bc4a-400e-bdac-211259715426"
   },
   "outputs": [
    {
     "name": "stdout",
     "output_type": "stream",
     "text": [
      "['Why do people often ask questions in Quora while they can Google it themselves?'\n",
      " 'Why do people ask questions whose answer can be easily found on the internet?'\n",
      " 'Who came first, egg or the hen?' 'What is first a egg or an hen?']\n"
     ]
    }
   ],
   "source": [
    "print((similar)[:4])"
   ]
  },
  {
   "cell_type": "code",
   "execution_count": 48,
   "id": "512c373d",
   "metadata": {
    "colab": {
     "base_uri": "https://localhost:8080/"
    },
    "id": "512c373d",
    "outputId": "1a2a7917-1f00-4135-d563-7fddbd32dbbf"
   },
   "outputs": [
    {
     "name": "stdout",
     "output_type": "stream",
     "text": [
      "['What are lucid dreams?' 'Is Lucid dreaming possible?'\n",
      " 'What is the difference between reptiles, amphibians, and mammals?'\n",
      " 'What is the difference between amphibians and reptiles?']\n"
     ]
    }
   ],
   "source": [
    "print(no_similar[:4])"
   ]
  },
  {
   "cell_type": "code",
   "execution_count": 49,
   "id": "5ccd5f38",
   "metadata": {
    "colab": {
     "base_uri": "https://localhost:8080/"
    },
    "id": "5ccd5f38",
    "outputId": "e0837234-f21c-41ea-8f34-3e3206230b72"
   },
   "outputs": [
    {
     "name": "stderr",
     "output_type": "stream",
     "text": [
      "[nltk_data] Downloading package stopwords to C:\\Users\\PANCHAYAT\n",
      "[nltk_data]     SAMITI 01\\AppData\\Roaming\\nltk_data...\n",
      "[nltk_data]   Package stopwords is already up-to-date!\n"
     ]
    },
    {
     "data": {
      "text/plain": [
       "True"
      ]
     },
     "execution_count": 49,
     "metadata": {},
     "output_type": "execute_result"
    }
   ],
   "source": [
    "import nltk\n",
    "nltk.download('stopwords')"
   ]
  },
  {
   "cell_type": "code",
   "execution_count": 50,
   "id": "a8339f82",
   "metadata": {
    "colab": {
     "base_uri": "https://localhost:8080/",
     "height": 265
    },
    "id": "a8339f82",
    "outputId": "a6f2397e-0cf1-45ed-b510-66f7361ac2a2"
   },
   "outputs": [
    {
     "name": "stdout",
     "output_type": "stream",
     "text": [
      "Word Cloud for Duplicate question\n"
     ]
    },
    {
     "data": {
      "image/png": "[encoded data removed]",
      "text/plain": [
       "<Figure size 432x288 with 1 Axes>"
      ]
     },
     "metadata": {
      "needs_background": "light"
     },
     "output_type": "display_data"
    }
   ],
   "source": [
    "# Word Cloud for Duplicate question:\n",
    "stop_words = set(stopwords.words(\"english\")) # to remove the stopwords\n",
    "\n",
    "duplicate_words = ''\n",
    "for j in (similar): # This loop extracts words from sentences given to it as input\n",
    "    c = (str(j).split())\n",
    "    for v in c:\n",
    "        b = v.lower()\n",
    "        duplicate_words += \"\".join(b)+\" \"\n",
    "            \n",
    "wc_q = WordCloud(width = 800, height = 800,background_color ='white',stopwords = stop_words,min_font_size = 10)\n",
    "wc_q.generate(duplicate_words)\n",
    "print('Word Cloud for Duplicate question')\n",
    "plt.imshow(wc_q, interpolation='bilinear')\n",
    "plt.axis(\"off\")\n",
    "plt.show()\n",
    "    "
   ]
  },
  {
   "cell_type": "code",
   "execution_count": 51,
   "id": "4cf150aa",
   "metadata": {
    "colab": {
     "base_uri": "https://localhost:8080/",
     "height": 265
    },
    "id": "4cf150aa",
    "outputId": "571d5bc9-34da-476f-f679-2b1c33ebf2d9"
   },
   "outputs": [
    {
     "name": "stdout",
     "output_type": "stream",
     "text": [
      "Word Cloud for Non Duplicate question\n"
     ]
    },
    {
     "data": {
      "image/png": "[encoded data removed]",
      "text/plain": [
       "<Figure size 432x288 with 1 Axes>"
      ]
     },
     "metadata": {
      "needs_background": "light"
     },
     "output_type": "display_data"
    }
   ],
   "source": [
    "# Word Cloud for Non-Duplicate question:\n",
    "\n",
    "not_duplicate_words = ''\n",
    "for p in (no_similar):\n",
    "    d = (str(p).split())\n",
    "    for n in d:\n",
    "        s = n.lower()\n",
    "        not_duplicate_words += \"\".join(s)+\" \"\n",
    "            \n",
    "wc_q_ = WordCloud(width = 800, height = 800,background_color ='white',stopwords = stop_words,min_font_size = 10)\n",
    "wc_q_.generate(not_duplicate_words)\n",
    "print('Word Cloud for Non Duplicate question')\n",
    "plt.imshow(wc_q_, interpolation='bilinear')\n",
    "plt.axis(\"off\")\n",
    "plt.show()"
   ]
  },
  {
   "cell_type": "markdown",
   "id": "bf78dc78",
   "metadata": {
    "id": "bf78dc78"
   },
   "source": [
    "# Distributions for extracted features"
   ]
  },
  {
   "cell_type": "code",
   "execution_count": 52,
   "id": "3e7cc055",
   "metadata": {
    "colab": {
     "base_uri": "https://localhost:8080/",
     "height": 389
    },
    "id": "3e7cc055",
    "outputId": "a1469174-f583-452f-a3a2-ab1ba2a2bb76"
   },
   "outputs": [
    {
     "data": {
      "image/png": "[encoded data removed]",
      "text/plain": [
       "<Figure size 576x432 with 2 Axes>"
      ]
     },
     "metadata": {
      "needs_background": "light"
     },
     "output_type": "display_data"
    }
   ],
   "source": [
    "# Data visualization for \"Word Share\":\n",
    "\n",
    "plt.figure(figsize=(8, 6))\n",
    "\n",
    "plt.subplot(1,2,1)\n",
    "sns.violinplot(x = 'is_duplicate', y = 'word share', data = xy_train[0:])\n",
    "\n",
    "plt.subplot(1,2,2)\n",
    "sns.kdeplot(xy_train[xy_train['is_duplicate'] == 1.0]['word share'][0:] , label = \"1\", color = 'red')\n",
    "sns.kdeplot(xy_train[xy_train['is_duplicate'] == 0.0]['word share'][0:] , label = \"0\" , color = 'blue' )\n",
    "plt.show()"
   ]
  },
  {
   "cell_type": "code",
   "execution_count": 53,
   "id": "a47fa4a5",
   "metadata": {
    "colab": {
     "base_uri": "https://localhost:8080/",
     "height": 389
    },
    "id": "a47fa4a5",
    "outputId": "bcec4a58-d724-4dd7-f304-b7f3a7be4b72"
   },
   "outputs": [
    {
     "data": {
      "image/png": "[encoded data removed]",
      "text/plain": [
       "<Figure size 576x432 with 2 Axes>"
      ]
     },
     "metadata": {
      "needs_background": "light"
     },
     "output_type": "display_data"
    }
   ],
   "source": [
    "# Data visualization for \"Common words\":\n",
    "\n",
    "plt.figure(figsize=(8, 6))\n",
    "\n",
    "plt.subplot(1,2,1)\n",
    "sns.violinplot(x = 'is_duplicate', y = 'common words', data = xy_train[0:])\n",
    "\n",
    "plt.subplot(1,2,2)\n",
    "sns.kdeplot(xy_train[xy_train['is_duplicate'] == 1.0]['common words'][0:] , label = \"1\", color = 'red')\n",
    "sns.kdeplot(xy_train[xy_train['is_duplicate'] == 0.0]['common words'][0:] , label = \"0\" , color = 'blue' )\n",
    "plt.show()"
   ]
  },
  {
   "cell_type": "code",
   "execution_count": 54,
   "id": "6966c63d",
   "metadata": {
    "colab": {
     "base_uri": "https://localhost:8080/",
     "height": 389
    },
    "id": "6966c63d",
    "outputId": "7156a465-77d8-47b5-a082-0d9e1980ef19"
   },
   "outputs": [
    {
     "data": {
      "image/png": "[encoded data removed]",
      "text/plain": [
       "<Figure size 576x432 with 2 Axes>"
      ]
     },
     "metadata": {
      "needs_background": "light"
     },
     "output_type": "display_data"
    }
   ],
   "source": [
    "# Distribution of the fuzz_partial_ratio:\n",
    "\n",
    "plt.figure(figsize=(8, 6))\n",
    "\n",
    "plt.subplot(1,2,1)\n",
    "sns.violinplot(x = 'is_duplicate', y = 'fuzz_partial_ratio', data = xy_train[0:])\n",
    "\n",
    "plt.subplot(1,2,2)\n",
    "sns.kdeplot(xy_train[xy_train['is_duplicate'] == 1.0]['fuzz_partial_ratio'][0:] , label = \"1\", color = 'red',)\n",
    "sns.kdeplot(xy_train[xy_train['is_duplicate'] == 0.0]['fuzz_partial_ratio'][0:] , label = \"0\" , color = 'blue')\n",
    "plt.show()"
   ]
  },
  {
   "cell_type": "code",
   "execution_count": 55,
   "id": "14e23056",
   "metadata": {
    "colab": {
     "base_uri": "https://localhost:8080/",
     "height": 389
    },
    "id": "14e23056",
    "outputId": "34a5e19d-e496-447f-de67-5279abc4d420"
   },
   "outputs": [
    {
     "data": {
      "image/png": "[encoded data removed]",
      "text/plain": [
       "<Figure size 576x432 with 2 Axes>"
      ]
     },
     "metadata": {
      "needs_background": "light"
     },
     "output_type": "display_data"
    }
   ],
   "source": [
    "# Distribution of the WRatio:\n",
    "\n",
    "plt.figure(figsize=(8, 6))\n",
    "\n",
    "plt.subplot(1,2,1)\n",
    "sns.violinplot(x = 'is_duplicate', y = 'fuzz_WRatio', data = xy_train[0:])\n",
    "\n",
    "plt.subplot(1,2,2)\n",
    "sns.kdeplot(xy_train[xy_train['is_duplicate'] == 1.0]['fuzz_WRatio'][0:] , label = \"1\", color = 'red',)\n",
    "sns.kdeplot(xy_train[xy_train['is_duplicate'] == 0.0]['fuzz_WRatio'][0:] , label = \"0\" , color = 'blue')\n",
    "plt.show()"
   ]
  },
  {
   "cell_type": "code",
   "execution_count": 56,
   "id": "7a79e4c6",
   "metadata": {
    "colab": {
     "base_uri": "https://localhost:8080/",
     "height": 389
    },
    "id": "7a79e4c6",
    "outputId": "479e3a5e-4b8e-410e-8a40-28bfbe5648d1"
   },
   "outputs": [
    {
     "data": {
      "image/png": "[encoded data removed]",
      "text/plain": [
       "<Figure size 576x432 with 2 Axes>"
      ]
     },
     "metadata": {
      "needs_background": "light"
     },
     "output_type": "display_data"
    }
   ],
   "source": [
    "# Distribution of the Token Set ratio:\n",
    "\n",
    "plt.figure(figsize=(8, 6))\n",
    "\n",
    "plt.subplot(1,2,1)\n",
    "sns.violinplot(x = 'is_duplicate', y = 'token_set_ratio', data = xy_train[0:])\n",
    "\n",
    "plt.subplot(1,2,2)\n",
    "sns.kdeplot(xy_train[xy_train['is_duplicate'] == 1.0]['token_set_ratio'][0:] , label = \"1\", color = 'red',)\n",
    "sns.kdeplot(xy_train[xy_train['is_duplicate'] == 0.0]['token_set_ratio'][0:] , label = \"0\" , color = 'blue')\n",
    "plt.show()"
   ]
  },
  {
   "cell_type": "markdown",
   "id": "4517381c",
   "metadata": {
    "id": "4517381c"
   },
   "source": [
    "# Data Preprocessing: (Train set)"
   ]
  },
  {
   "cell_type": "code",
   "execution_count": 57,
   "id": "800674b0",
   "metadata": {
    "id": "800674b0"
   },
   "outputs": [],
   "source": [
    "# Removing stop words:\n",
    "all_stopwords = stopwords.words('english')\n",
    "\n",
    "# Removing the following words from list containing stopwords\n",
    "all_stopwords.remove('not')\n",
    "all_stopwords.remove('but')\n",
    "all_stopwords.remove('because')\n",
    "all_stopwords.remove('against')\n",
    "all_stopwords.remove('between')\n",
    "all_stopwords.remove('up')\n",
    "all_stopwords.remove('down')\n",
    "all_stopwords.remove('in')\n",
    "all_stopwords.remove('out')\n",
    "all_stopwords.remove('once')\n",
    "all_stopwords.remove('before')\n",
    "all_stopwords.remove('after')\n",
    "all_stopwords.remove('few')\n",
    "all_stopwords.remove('more')\n",
    "all_stopwords.remove('most')\n",
    "all_stopwords.remove('no')\n",
    "all_stopwords.remove('nor')\n",
    "all_stopwords.remove('same')\n",
    "all_stopwords.remove('some')\n",
    "\n",
    "def remove_stopwords(texts):\n",
    "    '''\n",
    "    This function removes stopwords from the sentences\n",
    "    \n",
    "    '''\n",
    "    sentence = texts.lower().strip()\n",
    "    sentence = sentence.split()\n",
    "    final1 = [word1 for word1 in sentence if not word1 in set(all_stopwords)]\n",
    "    final1_ = ' '.join(final1)\n",
    "    return final1_\n"
   ]
  },
  {
   "cell_type": "code",
   "execution_count": 58,
   "id": "JfYFGJjmtxzb",
   "metadata": {
    "colab": {
     "base_uri": "https://localhost:8080/",
     "height": 1000
    },
    "id": "JfYFGJjmtxzb",
    "outputId": "9108ab8a-efbe-4025-a79b-391621cd379d"
   },
   "outputs": [
    {
     "data": {
      "text/html": [
       "<div>\n",
       "<style scoped>\n",
       "    .dataframe tbody tr th:only-of-type {\n",
       "        vertical-align: middle;\n",
       "    }\n",
       "\n",
       "    .dataframe tbody tr th {\n",
       "        vertical-align: top;\n",
       "    }\n",
       "\n",
       "    .dataframe thead th {\n",
       "        text-align: right;\n",
       "    }\n",
       "</style>\n",
       "<table border=\"1\" class=\"dataframe\">\n",
       "  <thead>\n",
       "    <tr style=\"text-align: right;\">\n",
       "      <th></th>\n",
       "      <th>id</th>\n",
       "      <th>qid1</th>\n",
       "      <th>qid2</th>\n",
       "      <th>question1</th>\n",
       "      <th>question2</th>\n",
       "      <th>is_duplicate</th>\n",
       "      <th>q1_length</th>\n",
       "      <th>q2_length</th>\n",
       "      <th>common words</th>\n",
       "      <th>word share</th>\n",
       "      <th>...</th>\n",
       "      <th>cwc_max</th>\n",
       "      <th>first word equal</th>\n",
       "      <th>last word equal</th>\n",
       "      <th>difference in no.of words</th>\n",
       "      <th>avg length of words</th>\n",
       "      <th>token_set_ratio</th>\n",
       "      <th>token_sort_ratio</th>\n",
       "      <th>fuzz_WRatio</th>\n",
       "      <th>fuzz_partial_ratio</th>\n",
       "      <th>longest_substr_ratio</th>\n",
       "    </tr>\n",
       "  </thead>\n",
       "  <tbody>\n",
       "    <tr>\n",
       "      <th>95873</th>\n",
       "      <td>95873</td>\n",
       "      <td>21712</td>\n",
       "      <td>5041</td>\n",
       "      <td>Why do people often ask questions in Quora whi...</td>\n",
       "      <td>Why do people ask questions whose answer can b...</td>\n",
       "      <td>1</td>\n",
       "      <td>14</td>\n",
       "      <td>14</td>\n",
       "      <td>6</td>\n",
       "      <td>0.214</td>\n",
       "      <td>...</td>\n",
       "      <td>0.429</td>\n",
       "      <td>1</td>\n",
       "      <td>0</td>\n",
       "      <td>0</td>\n",
       "      <td>14.0</td>\n",
       "      <td>66</td>\n",
       "      <td>63</td>\n",
       "      <td>70</td>\n",
       "      <td>70</td>\n",
       "      <td>0.184211</td>\n",
       "    </tr>\n",
       "    <tr>\n",
       "      <th>262013</th>\n",
       "      <td>262013</td>\n",
       "      <td>74232</td>\n",
       "      <td>33958</td>\n",
       "      <td>What are lucid dreams?</td>\n",
       "      <td>Is Lucid dreaming possible?</td>\n",
       "      <td>0</td>\n",
       "      <td>4</td>\n",
       "      <td>4</td>\n",
       "      <td>1</td>\n",
       "      <td>0.125</td>\n",
       "      <td>...</td>\n",
       "      <td>0.250</td>\n",
       "      <td>0</td>\n",
       "      <td>0</td>\n",
       "      <td>0</td>\n",
       "      <td>4.0</td>\n",
       "      <td>52</td>\n",
       "      <td>52</td>\n",
       "      <td>56</td>\n",
       "      <td>61</td>\n",
       "      <td>0.476190</td>\n",
       "    </tr>\n",
       "    <tr>\n",
       "      <th>85654</th>\n",
       "      <td>85654</td>\n",
       "      <td>144574</td>\n",
       "      <td>144575</td>\n",
       "      <td>Who came first, egg or the hen?</td>\n",
       "      <td>What is first a egg or an hen?</td>\n",
       "      <td>1</td>\n",
       "      <td>7</td>\n",
       "      <td>8</td>\n",
       "      <td>4</td>\n",
       "      <td>0.267</td>\n",
       "      <td>...</td>\n",
       "      <td>0.500</td>\n",
       "      <td>0</td>\n",
       "      <td>1</td>\n",
       "      <td>1</td>\n",
       "      <td>7.5</td>\n",
       "      <td>76</td>\n",
       "      <td>72</td>\n",
       "      <td>80</td>\n",
       "      <td>78</td>\n",
       "      <td>0.266667</td>\n",
       "    </tr>\n",
       "    <tr>\n",
       "      <th>19837</th>\n",
       "      <td>19837</td>\n",
       "      <td>37476</td>\n",
       "      <td>37477</td>\n",
       "      <td>What is the difference between reptiles, amphi...</td>\n",
       "      <td>What is the difference between amphibians and ...</td>\n",
       "      <td>0</td>\n",
       "      <td>9</td>\n",
       "      <td>8</td>\n",
       "      <td>8</td>\n",
       "      <td>0.471</td>\n",
       "      <td>...</td>\n",
       "      <td>0.889</td>\n",
       "      <td>1</td>\n",
       "      <td>0</td>\n",
       "      <td>1</td>\n",
       "      <td>8.5</td>\n",
       "      <td>100</td>\n",
       "      <td>94</td>\n",
       "      <td>95</td>\n",
       "      <td>86</td>\n",
       "      <td>0.584906</td>\n",
       "    </tr>\n",
       "    <tr>\n",
       "      <th>105551</th>\n",
       "      <td>105551</td>\n",
       "      <td>11605</td>\n",
       "      <td>1310</td>\n",
       "      <td>What would be the best way to control anger?</td>\n",
       "      <td>How can someone control their anger?</td>\n",
       "      <td>1</td>\n",
       "      <td>9</td>\n",
       "      <td>6</td>\n",
       "      <td>2</td>\n",
       "      <td>0.133</td>\n",
       "      <td>...</td>\n",
       "      <td>0.222</td>\n",
       "      <td>0</td>\n",
       "      <td>1</td>\n",
       "      <td>3</td>\n",
       "      <td>7.5</td>\n",
       "      <td>54</td>\n",
       "      <td>51</td>\n",
       "      <td>56</td>\n",
       "      <td>61</td>\n",
       "      <td>0.250000</td>\n",
       "    </tr>\n",
       "    <tr>\n",
       "      <th>...</th>\n",
       "      <td>...</td>\n",
       "      <td>...</td>\n",
       "      <td>...</td>\n",
       "      <td>...</td>\n",
       "      <td>...</td>\n",
       "      <td>...</td>\n",
       "      <td>...</td>\n",
       "      <td>...</td>\n",
       "      <td>...</td>\n",
       "      <td>...</td>\n",
       "      <td>...</td>\n",
       "      <td>...</td>\n",
       "      <td>...</td>\n",
       "      <td>...</td>\n",
       "      <td>...</td>\n",
       "      <td>...</td>\n",
       "      <td>...</td>\n",
       "      <td>...</td>\n",
       "      <td>...</td>\n",
       "      <td>...</td>\n",
       "      <td>...</td>\n",
       "    </tr>\n",
       "    <tr>\n",
       "      <th>281943</th>\n",
       "      <td>281943</td>\n",
       "      <td>42867</td>\n",
       "      <td>66163</td>\n",
       "      <td>What is the easiest way to learn JavaScript?</td>\n",
       "      <td>What is the best way to go about learning Java...</td>\n",
       "      <td>1</td>\n",
       "      <td>8</td>\n",
       "      <td>10</td>\n",
       "      <td>6</td>\n",
       "      <td>0.333</td>\n",
       "      <td>...</td>\n",
       "      <td>0.600</td>\n",
       "      <td>1</td>\n",
       "      <td>1</td>\n",
       "      <td>2</td>\n",
       "      <td>9.0</td>\n",
       "      <td>84</td>\n",
       "      <td>84</td>\n",
       "      <td>84</td>\n",
       "      <td>76</td>\n",
       "      <td>0.272727</td>\n",
       "    </tr>\n",
       "    <tr>\n",
       "      <th>370194</th>\n",
       "      <td>370194</td>\n",
       "      <td>500727</td>\n",
       "      <td>500728</td>\n",
       "      <td>How and where can I buy Made Easy handwritten ...</td>\n",
       "      <td>I have three cat steaks and four hungry boys, ...</td>\n",
       "      <td>0</td>\n",
       "      <td>14</td>\n",
       "      <td>14</td>\n",
       "      <td>3</td>\n",
       "      <td>0.107</td>\n",
       "      <td>...</td>\n",
       "      <td>0.214</td>\n",
       "      <td>0</td>\n",
       "      <td>0</td>\n",
       "      <td>0</td>\n",
       "      <td>14.0</td>\n",
       "      <td>58</td>\n",
       "      <td>55</td>\n",
       "      <td>58</td>\n",
       "      <td>60</td>\n",
       "      <td>0.071429</td>\n",
       "    </tr>\n",
       "    <tr>\n",
       "      <th>370367</th>\n",
       "      <td>370367</td>\n",
       "      <td>19980</td>\n",
       "      <td>10524</td>\n",
       "      <td>Who will be USA next president, Trump or Clinton?</td>\n",
       "      <td>Who do you think will win Trump or Clinton?</td>\n",
       "      <td>1</td>\n",
       "      <td>9</td>\n",
       "      <td>9</td>\n",
       "      <td>5</td>\n",
       "      <td>0.278</td>\n",
       "      <td>...</td>\n",
       "      <td>0.556</td>\n",
       "      <td>1</td>\n",
       "      <td>1</td>\n",
       "      <td>0</td>\n",
       "      <td>9.0</td>\n",
       "      <td>75</td>\n",
       "      <td>65</td>\n",
       "      <td>74</td>\n",
       "      <td>71</td>\n",
       "      <td>0.395349</td>\n",
       "    </tr>\n",
       "    <tr>\n",
       "      <th>243389</th>\n",
       "      <td>243389</td>\n",
       "      <td>355817</td>\n",
       "      <td>355818</td>\n",
       "      <td>How old do I look to you? Honestly.</td>\n",
       "      <td>How old do I look?</td>\n",
       "      <td>0</td>\n",
       "      <td>8</td>\n",
       "      <td>5</td>\n",
       "      <td>5</td>\n",
       "      <td>0.385</td>\n",
       "      <td>...</td>\n",
       "      <td>0.625</td>\n",
       "      <td>1</td>\n",
       "      <td>0</td>\n",
       "      <td>3</td>\n",
       "      <td>6.5</td>\n",
       "      <td>100</td>\n",
       "      <td>68</td>\n",
       "      <td>90</td>\n",
       "      <td>97</td>\n",
       "      <td>0.944444</td>\n",
       "    </tr>\n",
       "    <tr>\n",
       "      <th>77180</th>\n",
       "      <td>77180</td>\n",
       "      <td>131824</td>\n",
       "      <td>131825</td>\n",
       "      <td>Is guava a citrus fruit?</td>\n",
       "      <td>Why is guava not considered a citrus fruit?</td>\n",
       "      <td>0</td>\n",
       "      <td>5</td>\n",
       "      <td>8</td>\n",
       "      <td>5</td>\n",
       "      <td>0.385</td>\n",
       "      <td>...</td>\n",
       "      <td>0.625</td>\n",
       "      <td>0</td>\n",
       "      <td>1</td>\n",
       "      <td>3</td>\n",
       "      <td>6.5</td>\n",
       "      <td>100</td>\n",
       "      <td>71</td>\n",
       "      <td>86</td>\n",
       "      <td>74</td>\n",
       "      <td>0.625000</td>\n",
       "    </tr>\n",
       "  </tbody>\n",
       "</table>\n",
       "<p>323429 rows × 21 columns</p>\n",
       "</div>"
      ],
      "text/plain": [
       "            id    qid1    qid2  \\\n",
       "95873    95873   21712    5041   \n",
       "262013  262013   74232   33958   \n",
       "85654    85654  144574  144575   \n",
       "19837    19837   37476   37477   \n",
       "105551  105551   11605    1310   \n",
       "...        ...     ...     ...   \n",
       "281943  281943   42867   66163   \n",
       "370194  370194  500727  500728   \n",
       "370367  370367   19980   10524   \n",
       "243389  243389  355817  355818   \n",
       "77180    77180  131824  131825   \n",
       "\n",
       "                                                question1  \\\n",
       "95873   Why do people often ask questions in Quora whi...   \n",
       "262013                             What are lucid dreams?   \n",
       "85654                     Who came first, egg or the hen?   \n",
       "19837   What is the difference between reptiles, amphi...   \n",
       "105551       What would be the best way to control anger?   \n",
       "...                                                   ...   \n",
       "281943       What is the easiest way to learn JavaScript?   \n",
       "370194  How and where can I buy Made Easy handwritten ...   \n",
       "370367  Who will be USA next president, Trump or Clinton?   \n",
       "243389                How old do I look to you? Honestly.   \n",
       "77180                            Is guava a citrus fruit?   \n",
       "\n",
       "                                                question2  is_duplicate  \\\n",
       "95873   Why do people ask questions whose answer can b...             1   \n",
       "262013                        Is Lucid dreaming possible?             0   \n",
       "85654                      What is first a egg or an hen?             1   \n",
       "19837   What is the difference between amphibians and ...             0   \n",
       "105551               How can someone control their anger?             1   \n",
       "...                                                   ...           ...   \n",
       "281943  What is the best way to go about learning Java...             1   \n",
       "370194  I have three cat steaks and four hungry boys, ...             0   \n",
       "370367        Who do you think will win Trump or Clinton?             1   \n",
       "243389                                 How old do I look?             0   \n",
       "77180         Why is guava not considered a citrus fruit?             0   \n",
       "\n",
       "        q1_length  q2_length  common words  word share  ...  cwc_max  \\\n",
       "95873          14         14             6       0.214  ...    0.429   \n",
       "262013          4          4             1       0.125  ...    0.250   \n",
       "85654           7          8             4       0.267  ...    0.500   \n",
       "19837           9          8             8       0.471  ...    0.889   \n",
       "105551          9          6             2       0.133  ...    0.222   \n",
       "...           ...        ...           ...         ...  ...      ...   \n",
       "281943          8         10             6       0.333  ...    0.600   \n",
       "370194         14         14             3       0.107  ...    0.214   \n",
       "370367          9          9             5       0.278  ...    0.556   \n",
       "243389          8          5             5       0.385  ...    0.625   \n",
       "77180           5          8             5       0.385  ...    0.625   \n",
       "\n",
       "        first word equal  last word equal  difference in no.of words  \\\n",
       "95873                  1                0                          0   \n",
       "262013                 0                0                          0   \n",
       "85654                  0                1                          1   \n",
       "19837                  1                0                          1   \n",
       "105551                 0                1                          3   \n",
       "...                  ...              ...                        ...   \n",
       "281943                 1                1                          2   \n",
       "370194                 0                0                          0   \n",
       "370367                 1                1                          0   \n",
       "243389                 1                0                          3   \n",
       "77180                  0                1                          3   \n",
       "\n",
       "        avg length of words  token_set_ratio  token_sort_ratio  fuzz_WRatio  \\\n",
       "95873                  14.0               66                63           70   \n",
       "262013                  4.0               52                52           56   \n",
       "85654                   7.5               76                72           80   \n",
       "19837                   8.5              100                94           95   \n",
       "105551                  7.5               54                51           56   \n",
       "...                     ...              ...               ...          ...   \n",
       "281943                  9.0               84                84           84   \n",
       "370194                 14.0               58                55           58   \n",
       "370367                  9.0               75                65           74   \n",
       "243389                  6.5              100                68           90   \n",
       "77180                   6.5              100                71           86   \n",
       "\n",
       "        fuzz_partial_ratio  longest_substr_ratio  \n",
       "95873                   70              0.184211  \n",
       "262013                  61              0.476190  \n",
       "85654                   78              0.266667  \n",
       "19837                   86              0.584906  \n",
       "105551                  61              0.250000  \n",
       "...                    ...                   ...  \n",
       "281943                  76              0.272727  \n",
       "370194                  60              0.071429  \n",
       "370367                  71              0.395349  \n",
       "243389                  97              0.944444  \n",
       "77180                   74              0.625000  \n",
       "\n",
       "[323429 rows x 21 columns]"
      ]
     },
     "execution_count": 58,
     "metadata": {},
     "output_type": "execute_result"
    }
   ],
   "source": [
    "xy_train"
   ]
  },
  {
   "cell_type": "code",
   "execution_count": 59,
   "id": "bd58c9b7",
   "metadata": {
    "id": "bd58c9b7"
   },
   "outputs": [],
   "source": [
    "q1_train_clean1 = [] # this contains question1 without any stopwords.\n",
    "for z in range(len(xy_train[\"question1\"].values)):\n",
    "    res = remove_stopwords(str(xy_train[\"question1\"].values[z]))\n",
    "    q1_train_clean1.append(res)\n",
    "\n",
    "q2_train_clean2 = [] # this contains question2 without any stopwords.\n",
    "for z in range(len(xy_train[\"question2\"].values)):\n",
    "    res2 = remove_stopwords(str(xy_train[\"question2\"].values[z]))\n",
    "    q2_train_clean2.append(res2)  "
   ]
  },
  {
   "cell_type": "code",
   "execution_count": 60,
   "id": "9d6fe149",
   "metadata": {
    "id": "9d6fe149"
   },
   "outputs": [],
   "source": [
    "q1_test_clean1 = [] # this contains question1 without any stopwords.\n",
    "for z in range(len(xy_test[\"question1\"].values)):\n",
    "    res = remove_stopwords(str(xy_test[\"question1\"].values[z]))\n",
    "    q1_test_clean1.append(res)\n",
    "\n",
    "q2_test_clean2 = [] # this contains question2 without any stopwords.\n",
    "for z in range(len(xy_test[\"question2\"].values)):\n",
    "    res2 = remove_stopwords(str(xy_test[\"question2\"].values[z]))\n",
    "    q2_test_clean2.append(res2)  "
   ]
  },
  {
   "cell_type": "code",
   "execution_count": 61,
   "id": "b5a8ef82",
   "metadata": {
    "colab": {
     "base_uri": "https://localhost:8080/"
    },
    "id": "b5a8ef82",
    "outputId": "9ae2f284-304b-46d4-b7c9-585b9a0c8659"
   },
   "outputs": [
    {
     "name": "stdout",
     "output_type": "stream",
     "text": [
      "Shape of tf-idf vector is:  (323429, 1000)\n"
     ]
    },
    {
     "name": "stderr",
     "output_type": "stream",
     "text": [
      "C:\\Users\\PANCHAYAT  SAMITI 01\\AppData\\Roaming\\Python\\Python39\\site-packages\\sklearn\\utils\\deprecation.py:87: FutureWarning: Function get_feature_names is deprecated; get_feature_names is deprecated in 1.0 and will be removed in 1.2. Please use get_feature_names_out instead.\n",
      "  warnings.warn(msg, category=FutureWarning)\n"
     ]
    }
   ],
   "source": [
    "# TF-IDF Vector: Train vector\n",
    "\n",
    "total_questions = (q1_train_clean1) + (q2_train_clean2)\n",
    "tfidf = TfidfVectorizer(max_features = 1000, min_df=50)\n",
    "tfidf.fit(total_questions)\n",
    "q1_train_vector = tfidf.transform(q1_train_clean1).toarray()\n",
    "q2_train_vector = tfidf.transform(q2_train_clean2).toarray()\n",
    "\n",
    "# Creating a dictionary with word as a key, and the idf as a value\n",
    "# This is done so that we can get TF-IDF values.\n",
    "\n",
    "tfidf_values = dict(zip(tfidf.get_feature_names(), list(tfidf.idf_)))\n",
    "print('Shape of tf-idf vector is: ',q1_train_vector.shape)"
   ]
  },
  {
   "cell_type": "code",
   "execution_count": 62,
   "id": "1w1KAsQAvNyd",
   "metadata": {
    "colab": {
     "base_uri": "https://localhost:8080/"
    },
    "id": "1w1KAsQAvNyd",
    "outputId": "7e862cc9-20ec-4bf0-bb75-c8dc7ec8624f"
   },
   "outputs": [],
   "source": [
    "features = tfidf.get_feature_names()"
   ]
  },
  {
   "cell_type": "markdown",
   "id": "02ab4bff",
   "metadata": {
    "id": "02ab4bff"
   },
   "source": [
    "# Creating my own W2V model on the Quora question pair corpus:"
   ]
  },
  {
   "cell_type": "code",
   "execution_count": 63,
   "id": "b7ecd7d5",
   "metadata": {
    "colab": {
     "base_uri": "https://localhost:8080/"
    },
    "id": "b7ecd7d5",
    "outputId": "c5ea53fe-80ad-43a0-db50-408c6f6664b1"
   },
   "outputs": [
    {
     "name": "stdout",
     "output_type": "stream",
     "text": [
      "sample words  ['in', 'best', 'some', 'get', 'good', 'people', 'would', 'like', 'between', 'most', 'one', 'make', 'not', 'way', 'india?', 'after', 'difference', \"what's\", 'know', 'learn', 'new', 'much', 'many', 'think', 'find', 'money', 'india', 'use', 'indian', 'without', 'become', 'more', 'someone', 'ever', 'but', 'quora', 'time', 'start', 'quora?', 'first', 'want', 'out', 'trump', 'life?', 'why?', 'take', 'could', 'better', 'feel', 'it?']\n"
     ]
    }
   ],
   "source": [
    "# Creating w2v model on question 1:\n",
    "q1_train_list = []  \n",
    "for new in (q1_train_clean1):\n",
    "    q1_train_list.append(new.split())\n",
    "    \n",
    "w2v_q1=Word2Vec(q1_train_list,min_count=5,vector_size=100, workers=2) \n",
    "w2v_words_q1 = list(w2v_q1.wv.index_to_key) # to get the keys which are words\n",
    "print(\"sample words \", w2v_words_q1[0:50])\n",
    "\n",
    "# vector_size = 100---> each word will be represented by a 200 dimensional vector.\n",
    "# min_count = 5---> only those words are considered which atleast ocuur (5 times) in the corpus."
   ]
  },
  {
   "cell_type": "code",
   "execution_count": 64,
   "id": "c65bbb36",
   "metadata": {
    "id": "c65bbb36"
   },
   "outputs": [],
   "source": [
    "# Creating w2v model on question 2:\n",
    "q2_train_list = []\n",
    "for new2 in (q2_train_clean2):\n",
    "    q2_train_list.append(new2.split())\n",
    "    \n",
    "w2v_q2 = Word2Vec(q2_train_list,min_count=5,vector_size=100, workers=2) \n",
    "w2v_words_q2 = list(w2v_q2.wv.index_to_key)"
   ]
  },
  {
   "cell_type": "code",
   "execution_count": 65,
   "id": "a2a501ae",
   "metadata": {
    "colab": {
     "base_uri": "https://localhost:8080/"
    },
    "id": "a2a501ae",
    "outputId": "1c4631e5-2cd5-4e01-ba29-ba9924a59b69"
   },
   "outputs": [
    {
     "name": "stderr",
     "output_type": "stream",
     "text": [
      "100%|█████████████████████████████████████████████████████████████████████████| 323429/323429 [10:38<00:00, 506.88it/s]\n"
     ]
    }
   ],
   "source": [
    "# Getting TF-IDF*W2V values for question 1 :\n",
    "\n",
    "tfidf_w2v_q1 = [] # the tfidf-w2v for each question1 is stored in this list\n",
    "\n",
    "for sent1 in tqdm(q1_train_list): # for each question1\n",
    "    sent_vec1 = np.zeros(100) \n",
    "    tfidf_sum1 =0\n",
    "    for word1 in sent1: # for each word in question1\n",
    "        if word1 in w2v_words_q1 and word1 in features:\n",
    "            vec1 = w2v_q1.wv[word1] # w2v vector for the word\n",
    "            tf_idf_q1 = tfidf_values[word1]*(sent1.count(word1)/len(sent1)) # idf * tf = tfidf\n",
    "            sent_vec1 += (vec1 * tf_idf_q1) # w2v * tfidf\n",
    "            tfidf_sum1 += tf_idf_q1 # summation of tfidf\n",
    "    if tfidf_sum1 != 0: # handling boundary condition\n",
    "        sent_vec1 = sent_vec1/tfidf_sum1\n",
    "    tfidf_w2v_q1.append(sent_vec1)\n",
    "\n",
    "tfidf_w2v_q1_list = list(tfidf_w2v_q1)"
   ]
  },
  {
   "cell_type": "code",
   "execution_count": 66,
   "id": "4fe5d12b",
   "metadata": {
    "colab": {
     "base_uri": "https://localhost:8080/"
    },
    "id": "4fe5d12b",
    "outputId": "3e697552-5be7-4b63-e6b0-1ad59495f6fb"
   },
   "outputs": [
    {
     "name": "stderr",
     "output_type": "stream",
     "text": [
      "100%|█████████████████████████████████████████████████████████████████████████| 323429/323429 [16:06<00:00, 334.53it/s]\n"
     ]
    }
   ],
   "source": [
    "# Getting TF-IDF*W2V values for question 2 :\n",
    "\n",
    "tfidf_w2v_q2 = [] # the tfidf-w2v for each question 2 is stored in this list\n",
    "\n",
    "for sent2 in tqdm(q2_train_list): # for each question2\n",
    "    sent_vec2 = np.zeros(100) \n",
    "    tfidf_sum2 =0\n",
    "    for word2 in sent2: # for each word in question2\n",
    "        if word2 in w2v_words_q2 and word2 in features:\n",
    "            vec2 = w2v_q2.wv[word2] \n",
    "            tf_idf_q2 = tfidf_values[word2]*(sent2.count(word2)/len(sent2)) \n",
    "            sent_vec2 += (vec2 * tf_idf_q2) \n",
    "            tfidf_sum2 += tf_idf_q2 \n",
    "    if tfidf_sum2 != 0:\n",
    "        sent_vec2 = sent_vec2/tfidf_sum2\n",
    "    tfidf_w2v_q2.append(sent_vec2)\n",
    "\n",
    "tfidf_w2v_q2_list = list(tfidf_w2v_q2)\n",
    "   "
   ]
  },
  {
   "cell_type": "code",
   "execution_count": 67,
   "id": "21edf60e",
   "metadata": {
    "colab": {
     "base_uri": "https://localhost:8080/"
    },
    "id": "21edf60e",
    "outputId": "d1e9dca9-3288-4c68-f66c-047fc4fec6a3"
   },
   "outputs": [
    {
     "name": "stdout",
     "output_type": "stream",
     "text": [
      "The dimensions of TF_IDF_W2V is: 100\n"
     ]
    }
   ],
   "source": [
    "print('The dimensions of TF_IDF_W2V is:',len(tfidf_w2v_q2[0]))"
   ]
  },
  {
   "cell_type": "markdown",
   "id": "a7e01a03",
   "metadata": {
    "id": "a7e01a03"
   },
   "source": [
    "# Data Preprocessing (Test set):"
   ]
  },
  {
   "cell_type": "code",
   "execution_count": 68,
   "id": "656a005b",
   "metadata": {
    "id": "656a005b"
   },
   "outputs": [],
   "source": [
    "q1_test_list = []  \n",
    "for new in (q1_test_clean1):\n",
    "    q1_test_list.append(new.split())\n",
    "\n",
    "q2_test_list = []\n",
    "for new2 in (q2_test_clean2):\n",
    "    q2_test_list.append(new2.split())"
   ]
  },
  {
   "cell_type": "code",
   "execution_count": 69,
   "id": "6648ba68",
   "metadata": {
    "colab": {
     "base_uri": "https://localhost:8080/"
    },
    "id": "6648ba68",
    "outputId": "412aacd4-c895-4292-c957-7e56035575b4"
   },
   "outputs": [
    {
     "name": "stderr",
     "output_type": "stream",
     "text": [
      "100%|███████████████████████████████████████████████████████████████████████████| 80858/80858 [04:43<00:00, 284.74it/s]\n"
     ]
    }
   ],
   "source": [
    "# Getting TF-IDF*W2V values for question 1 :\n",
    "\n",
    "tfidf_w2v_q1_test = [] # the tfidf-w2v for each question1 is stored in this list\n",
    "\n",
    "for sent1 in tqdm(q1_test_list): # for each question1\n",
    "    sent_vec1 = np.zeros(100) \n",
    "    tfidf_sum1 =0\n",
    "    for word1 in sent1: # for each word in question1\n",
    "        if word1 in w2v_words_q1 and word1 in features:\n",
    "            vec1 = w2v_q1.wv[word1] # w2v vector for the word\n",
    "            tf_idf_q1 = tfidf_values[word1]*(sent1.count(word1)/len(sent1)) # idf * tf = tfidf\n",
    "            sent_vec1 += (vec1 * tf_idf_q1) # w2v * tfidf\n",
    "            tfidf_sum1 += tf_idf_q1 # summation of tfidf\n",
    "    if tfidf_sum1 != 0: # handling boundary condition\n",
    "        sent_vec1 = sent_vec1/tfidf_sum1\n",
    "    tfidf_w2v_q1_test.append(sent_vec1)\n",
    "\n",
    "tfidf_w2v_q1_list_test = list(tfidf_w2v_q1_test)"
   ]
  },
  {
   "cell_type": "code",
   "execution_count": 70,
   "id": "8513245d",
   "metadata": {
    "colab": {
     "base_uri": "https://localhost:8080/"
    },
    "id": "8513245d",
    "outputId": "62f7b6f9-f869-4fce-89da-5ab210299cb9"
   },
   "outputs": [
    {
     "name": "stderr",
     "output_type": "stream",
     "text": [
      "100%|███████████████████████████████████████████████████████████████████████████| 80858/80858 [05:17<00:00, 254.84it/s]\n"
     ]
    }
   ],
   "source": [
    "# Getting TF-IDF*W2V values for question 2 :\n",
    "\n",
    "tfidf_w2v_q2_test = [] # the tfidf-w2v for each question 2 is stored in this list\n",
    "\n",
    "for sent2 in tqdm(q2_test_list): # for each question2\n",
    "    sent_vec2 = np.zeros(100) \n",
    "    tfidf_sum2 =0\n",
    "    for word2 in sent2: # for each word in question2\n",
    "        if word2 in w2v_words_q2 and word2 in features:\n",
    "            vec2 = w2v_q2.wv[word2] \n",
    "            tf_idf_q2 = tfidf_values[word2]*(sent2.count(word2)/len(sent2)) \n",
    "            sent_vec2 += (vec2 * tf_idf_q2) \n",
    "            tfidf_sum2 += tf_idf_q2 \n",
    "    if tfidf_sum2 != 0:\n",
    "        sent_vec2 = sent_vec2/tfidf_sum2\n",
    "    tfidf_w2v_q2_test.append(sent_vec2)\n",
    "\n",
    "tfidf_w2v_q2_list_test = list(tfidf_w2v_q2_test)\n",
    "   "
   ]
  },
  {
   "cell_type": "markdown",
   "id": "a2f2009c",
   "metadata": {
    "id": "a2f2009c"
   },
   "source": [
    "# Creating final dataframe: (Train set)"
   ]
  },
  {
   "cell_type": "code",
   "execution_count": 71,
   "id": "4f1d6bd2",
   "metadata": {
    "id": "4f1d6bd2"
   },
   "outputs": [],
   "source": [
    "ques1_train = pd.DataFrame(tfidf_w2v_q1_list,index = xy_train.index) # Storing the q1 vector here\n",
    "ques2_train = pd.DataFrame(tfidf_w2v_q2_list,index = xy_train.index) # Storing the q2 vector here\n",
    "ques1_train['id']=xy_train['id']\n",
    "ques2_train['id']=xy_train['id']"
   ]
  },
  {
   "cell_type": "code",
   "execution_count": 72,
   "id": "92541f67",
   "metadata": {
    "id": "92541f67"
   },
   "outputs": [],
   "source": [
    "ques1_test = pd.DataFrame(tfidf_w2v_q1_list_test,index = xy_test.index) # Storing the q1 vector here\n",
    "ques2_test = pd.DataFrame(tfidf_w2v_q2_list_test,index = xy_test.index) # Storing the q2 vector here\n",
    "ques1_test['id']=xy_test['id']\n",
    "ques2_test['id']=xy_test['id']\n"
   ]
  },
  {
   "cell_type": "code",
   "execution_count": 73,
   "id": "0fda8cc4",
   "metadata": {
    "id": "0fda8cc4"
   },
   "outputs": [],
   "source": [
    "# Dropping the features which won't be required in Modeling\n",
    "\n",
    "X_train_ = xy_train.drop(['qid1', 'qid2', 'question1', 'question2', 'is_duplicate'], axis = 1)\n",
    "X_test_ = xy_test.drop(['qid1', 'qid2', 'question1', 'question2', 'is_duplicate'], axis = 1)"
   ]
  },
  {
   "cell_type": "code",
   "execution_count": 74,
   "id": "e07cccf4",
   "metadata": {
    "id": "e07cccf4"
   },
   "outputs": [],
   "source": [
    "# Merging all the dataframes:\n",
    "\n",
    "train_vector = ques1_train.merge(ques2_train,on = 'id',how ='left')\n",
    "X_train = X_train_.merge(train_vector,on = 'id',how ='left')\n",
    "\n",
    "test_vector = ques1_test.merge(ques2_test,on = 'id',how ='left')\n",
    "X_test = X_test_.merge(test_vector,on = 'id',how ='left')"
   ]
  },
  {
   "cell_type": "code",
   "execution_count": 75,
   "id": "b10a725b",
   "metadata": {
    "id": "b10a725b"
   },
   "outputs": [],
   "source": [
    "X_train.drop([\"id\"],axis = 1, inplace = True)\n",
    "X_test.drop([\"id\"],axis = 1, inplace = True)"
   ]
  },
  {
   "cell_type": "code",
   "execution_count": 76,
   "id": "4c84ab3d",
   "metadata": {
    "colab": {
     "base_uri": "https://localhost:8080/"
    },
    "id": "4c84ab3d",
    "outputId": "f54462e8-12a1-4a03-dad0-65d78481868a"
   },
   "outputs": [
    {
     "name": "stdout",
     "output_type": "stream",
     "text": [
      "Train data dimensions: (323429, 215)\n",
      "Test data dimensions: (80858, 215)\n"
     ]
    }
   ],
   "source": [
    "print('Train data dimensions:',X_train.shape)\n",
    "print('Test data dimensions:',X_test.shape)"
   ]
  },
  {
   "cell_type": "code",
   "execution_count": 77,
   "id": "b566280f",
   "metadata": {
    "colab": {
     "base_uri": "https://localhost:8080/"
    },
    "id": "b566280f",
    "outputId": "fe72c5fc-f7f8-4b84-ad26-0357efbb70bd"
   },
   "outputs": [
    {
     "name": "stdout",
     "output_type": "stream",
     "text": [
      "Train data dimensions: (323429,)\n",
      "Test data dimensions: (80858,)\n"
     ]
    }
   ],
   "source": [
    "print('Train data dimensions:',y_train.shape)\n",
    "print('Test data dimensions:',y_test.shape)"
   ]
  },
  {
   "cell_type": "code",
   "execution_count": 78,
   "id": "T0MPdj8BcMu5",
   "metadata": {
    "id": "T0MPdj8BcMu5"
   },
   "outputs": [],
   "source": [
    "X_train.to_csv('X_train.csv')\n",
    "X_test.to_csv('X_test.csv')\n",
    "\n",
    "y_train.to_csv('y_train.csv')\n",
    "y_test.to_csv('y_test.csv')"
   ]
  },
  {
   "cell_type": "code",
   "execution_count": null,
   "id": "8934718e",
   "metadata": {},
   "outputs": [],
   "source": []
  },
  {
   "cell_type": "code",
   "execution_count": 79,
   "id": "2OhINQqV57W9",
   "metadata": {
    "id": "2OhINQqV57W9"
   },
   "outputs": [],
   "source": [
    "#X_train = pd.read_csv('X_train.csv')\n",
    "#X_test = pd.read_csv('X_test.csv')\n",
    "\n",
    "#y_train = pd.read_csv('y_train.csv')\n",
    "#y_test = pd.read_csv('y_test.csv')"
   ]
  },
  {
   "cell_type": "code",
   "execution_count": 80,
   "id": "F0z2XE466VTh",
   "metadata": {
    "colab": {
     "base_uri": "https://localhost:8080/",
     "height": 240
    },
    "id": "F0z2XE466VTh",
    "outputId": "3c01ce85-0333-4c34-aa85-67e71a7148ca"
   },
   "outputs": [
    {
     "data": {
      "text/html": [
       "<div>\n",
       "<style scoped>\n",
       "    .dataframe tbody tr th:only-of-type {\n",
       "        vertical-align: middle;\n",
       "    }\n",
       "\n",
       "    .dataframe tbody tr th {\n",
       "        vertical-align: top;\n",
       "    }\n",
       "\n",
       "    .dataframe thead th {\n",
       "        text-align: right;\n",
       "    }\n",
       "</style>\n",
       "<table border=\"1\" class=\"dataframe\">\n",
       "  <thead>\n",
       "    <tr style=\"text-align: right;\">\n",
       "      <th></th>\n",
       "      <th>q1_length</th>\n",
       "      <th>q2_length</th>\n",
       "      <th>common words</th>\n",
       "      <th>word share</th>\n",
       "      <th>cwc_min</th>\n",
       "      <th>cwc_max</th>\n",
       "      <th>first word equal</th>\n",
       "      <th>last word equal</th>\n",
       "      <th>difference in no.of words</th>\n",
       "      <th>avg length of words</th>\n",
       "      <th>...</th>\n",
       "      <th>90_y</th>\n",
       "      <th>91_y</th>\n",
       "      <th>92_y</th>\n",
       "      <th>93_y</th>\n",
       "      <th>94_y</th>\n",
       "      <th>95_y</th>\n",
       "      <th>96_y</th>\n",
       "      <th>97_y</th>\n",
       "      <th>98_y</th>\n",
       "      <th>99_y</th>\n",
       "    </tr>\n",
       "  </thead>\n",
       "  <tbody>\n",
       "    <tr>\n",
       "      <th>0</th>\n",
       "      <td>14</td>\n",
       "      <td>14</td>\n",
       "      <td>6</td>\n",
       "      <td>0.214</td>\n",
       "      <td>0.429</td>\n",
       "      <td>0.429</td>\n",
       "      <td>1</td>\n",
       "      <td>0</td>\n",
       "      <td>0</td>\n",
       "      <td>14.0</td>\n",
       "      <td>...</td>\n",
       "      <td>0.999294</td>\n",
       "      <td>-0.460811</td>\n",
       "      <td>0.367546</td>\n",
       "      <td>-0.976681</td>\n",
       "      <td>2.58468</td>\n",
       "      <td>1.068159</td>\n",
       "      <td>0.369618</td>\n",
       "      <td>-0.909836</td>\n",
       "      <td>-0.65708</td>\n",
       "      <td>-1.247355</td>\n",
       "    </tr>\n",
       "    <tr>\n",
       "      <th>1</th>\n",
       "      <td>4</td>\n",
       "      <td>4</td>\n",
       "      <td>1</td>\n",
       "      <td>0.125</td>\n",
       "      <td>0.250</td>\n",
       "      <td>0.250</td>\n",
       "      <td>0</td>\n",
       "      <td>0</td>\n",
       "      <td>0</td>\n",
       "      <td>4.0</td>\n",
       "      <td>...</td>\n",
       "      <td>0.000000</td>\n",
       "      <td>0.000000</td>\n",
       "      <td>0.000000</td>\n",
       "      <td>0.000000</td>\n",
       "      <td>0.00000</td>\n",
       "      <td>0.000000</td>\n",
       "      <td>0.000000</td>\n",
       "      <td>0.000000</td>\n",
       "      <td>0.00000</td>\n",
       "      <td>0.000000</td>\n",
       "    </tr>\n",
       "  </tbody>\n",
       "</table>\n",
       "<p>2 rows × 215 columns</p>\n",
       "</div>"
      ],
      "text/plain": [
       "   q1_length  q2_length  common words  word share  cwc_min  cwc_max  \\\n",
       "0         14         14             6       0.214    0.429    0.429   \n",
       "1          4          4             1       0.125    0.250    0.250   \n",
       "\n",
       "   first word equal  last word equal  difference in no.of words  \\\n",
       "0                 1                0                          0   \n",
       "1                 0                0                          0   \n",
       "\n",
       "   avg length of words  ...      90_y      91_y      92_y      93_y     94_y  \\\n",
       "0                 14.0  ...  0.999294 -0.460811  0.367546 -0.976681  2.58468   \n",
       "1                  4.0  ...  0.000000  0.000000  0.000000  0.000000  0.00000   \n",
       "\n",
       "       95_y      96_y      97_y     98_y      99_y  \n",
       "0  1.068159  0.369618 -0.909836 -0.65708 -1.247355  \n",
       "1  0.000000  0.000000  0.000000  0.00000  0.000000  \n",
       "\n",
       "[2 rows x 215 columns]"
      ]
     },
     "execution_count": 80,
     "metadata": {},
     "output_type": "execute_result"
    }
   ],
   "source": [
    "X_train.head(2)"
   ]
  },
  {
   "cell_type": "code",
   "execution_count": 81,
   "id": "VqLrvXBn6rMQ",
   "metadata": {
    "colab": {
     "base_uri": "https://localhost:8080/",
     "height": 240
    },
    "id": "VqLrvXBn6rMQ",
    "outputId": "3f7730f3-3445-48e3-b6b4-20b5cf40fd62"
   },
   "outputs": [
    {
     "data": {
      "text/html": [
       "<div>\n",
       "<style scoped>\n",
       "    .dataframe tbody tr th:only-of-type {\n",
       "        vertical-align: middle;\n",
       "    }\n",
       "\n",
       "    .dataframe tbody tr th {\n",
       "        vertical-align: top;\n",
       "    }\n",
       "\n",
       "    .dataframe thead th {\n",
       "        text-align: right;\n",
       "    }\n",
       "</style>\n",
       "<table border=\"1\" class=\"dataframe\">\n",
       "  <thead>\n",
       "    <tr style=\"text-align: right;\">\n",
       "      <th></th>\n",
       "      <th>q1_length</th>\n",
       "      <th>q2_length</th>\n",
       "      <th>common words</th>\n",
       "      <th>word share</th>\n",
       "      <th>cwc_min</th>\n",
       "      <th>cwc_max</th>\n",
       "      <th>first word equal</th>\n",
       "      <th>last word equal</th>\n",
       "      <th>difference in no.of words</th>\n",
       "      <th>avg length of words</th>\n",
       "      <th>...</th>\n",
       "      <th>90_y</th>\n",
       "      <th>91_y</th>\n",
       "      <th>92_y</th>\n",
       "      <th>93_y</th>\n",
       "      <th>94_y</th>\n",
       "      <th>95_y</th>\n",
       "      <th>96_y</th>\n",
       "      <th>97_y</th>\n",
       "      <th>98_y</th>\n",
       "      <th>99_y</th>\n",
       "    </tr>\n",
       "  </thead>\n",
       "  <tbody>\n",
       "    <tr>\n",
       "      <th>0</th>\n",
       "      <td>8</td>\n",
       "      <td>13</td>\n",
       "      <td>5</td>\n",
       "      <td>0.238</td>\n",
       "      <td>0.625</td>\n",
       "      <td>0.385</td>\n",
       "      <td>0</td>\n",
       "      <td>0</td>\n",
       "      <td>5</td>\n",
       "      <td>10.5</td>\n",
       "      <td>...</td>\n",
       "      <td>-0.385447</td>\n",
       "      <td>2.043453</td>\n",
       "      <td>-0.806982</td>\n",
       "      <td>-0.715055</td>\n",
       "      <td>1.562307</td>\n",
       "      <td>0.437262</td>\n",
       "      <td>-0.104445</td>\n",
       "      <td>-0.536293</td>\n",
       "      <td>0.715435</td>\n",
       "      <td>-0.499209</td>\n",
       "    </tr>\n",
       "    <tr>\n",
       "      <th>1</th>\n",
       "      <td>25</td>\n",
       "      <td>9</td>\n",
       "      <td>8</td>\n",
       "      <td>0.235</td>\n",
       "      <td>0.889</td>\n",
       "      <td>0.320</td>\n",
       "      <td>1</td>\n",
       "      <td>0</td>\n",
       "      <td>16</td>\n",
       "      <td>17.0</td>\n",
       "      <td>...</td>\n",
       "      <td>0.677841</td>\n",
       "      <td>0.571451</td>\n",
       "      <td>0.030739</td>\n",
       "      <td>0.753049</td>\n",
       "      <td>0.504953</td>\n",
       "      <td>-0.018917</td>\n",
       "      <td>-0.302363</td>\n",
       "      <td>-0.556129</td>\n",
       "      <td>-0.893268</td>\n",
       "      <td>0.793344</td>\n",
       "    </tr>\n",
       "  </tbody>\n",
       "</table>\n",
       "<p>2 rows × 215 columns</p>\n",
       "</div>"
      ],
      "text/plain": [
       "   q1_length  q2_length  common words  word share  cwc_min  cwc_max  \\\n",
       "0          8         13             5       0.238    0.625    0.385   \n",
       "1         25          9             8       0.235    0.889    0.320   \n",
       "\n",
       "   first word equal  last word equal  difference in no.of words  \\\n",
       "0                 0                0                          5   \n",
       "1                 1                0                         16   \n",
       "\n",
       "   avg length of words  ...      90_y      91_y      92_y      93_y      94_y  \\\n",
       "0                 10.5  ... -0.385447  2.043453 -0.806982 -0.715055  1.562307   \n",
       "1                 17.0  ...  0.677841  0.571451  0.030739  0.753049  0.504953   \n",
       "\n",
       "       95_y      96_y      97_y      98_y      99_y  \n",
       "0  0.437262 -0.104445 -0.536293  0.715435 -0.499209  \n",
       "1 -0.018917 -0.302363 -0.556129 -0.893268  0.793344  \n",
       "\n",
       "[2 rows x 215 columns]"
      ]
     },
     "execution_count": 81,
     "metadata": {},
     "output_type": "execute_result"
    }
   ],
   "source": [
    "X_test.head(2)"
   ]
  },
  {
   "cell_type": "code",
   "execution_count": 82,
   "id": "or9v2fCW6rWZ",
   "metadata": {
    "colab": {
     "base_uri": "https://localhost:8080/",
     "height": 112
    },
    "id": "or9v2fCW6rWZ",
    "outputId": "eb255a07-dea1-430f-af27-a09afc80ec35"
   },
   "outputs": [
    {
     "data": {
      "text/plain": [
       "95873     1\n",
       "262013    0\n",
       "Name: is_duplicate, dtype: int64"
      ]
     },
     "execution_count": 82,
     "metadata": {},
     "output_type": "execute_result"
    }
   ],
   "source": [
    "y_train.head(2)"
   ]
  },
  {
   "cell_type": "code",
   "execution_count": 83,
   "id": "fC9_02oT6raV",
   "metadata": {
    "colab": {
     "base_uri": "https://localhost:8080/",
     "height": 112
    },
    "id": "fC9_02oT6raV",
    "outputId": "8c3b5039-6088-4b5a-b655-70ff06e1203c"
   },
   "outputs": [
    {
     "data": {
      "text/plain": [
       "35865    1\n",
       "83858    1\n",
       "Name: is_duplicate, dtype: int64"
      ]
     },
     "execution_count": 83,
     "metadata": {},
     "output_type": "execute_result"
    }
   ],
   "source": [
    "y_test.head(2)"
   ]
  },
  {
   "cell_type": "code",
   "execution_count": 13,
   "id": "UQK6_dKL6reS",
   "metadata": {
    "id": "UQK6_dKL6reS"
   },
   "outputs": [],
   "source": [
    "#X_train.drop([\"Unnamed: 0\"\t, \"Unnamed: 0.1\"], axis = 1, inplace = True)\n",
    "#X_test.drop([\"Unnamed: 0\"\t, \"Unnamed: 0.1\"], axis = 1, inplace = True)\n",
    "\n",
    "#y_train.drop([\"Unnamed: 0\"], axis = 1, inplace = True)\n",
    "#y_test.drop([\"Unnamed: 0\"], axis = 1, inplace = True)"
   ]
  },
  {
   "cell_type": "code",
   "execution_count": 108,
   "id": "f050ddb5",
   "metadata": {},
   "outputs": [
    {
     "data": {
      "text/html": [
       "<table>\n",
       "    <thead>\n",
       "        <tr>\n",
       "            <th>Model</th>\n",
       "            <th>Train-AUC</th>\n",
       "            <th>Test-AUC</th>\n",
       "        </tr>\n",
       "    </thead>\n",
       "    <tbody>\n",
       "        <tr>\n",
       "            <td>Logistic Regression</td>\n",
       "            <td>0.79</td>\n",
       "            <td>0.79</td>\n",
       "        </tr>\n",
       "        <tr>\n",
       "            <td>XGBoost</td>\n",
       "            <td>0.8418</td>\n",
       "            <td>0.8418</td>\n",
       "        </tr>\n",
       "        <tr>\n",
       "            <td>LGBM</td>\n",
       "            <td>0.875</td>\n",
       "            <td>0.869</td>\n",
       "        </tr>\n",
       "    </tbody>\n",
       "</table>"
      ],
      "text/plain": [
       "+---------------------+-----------+----------+\n",
       "|        Model        | Train-AUC | Test-AUC |\n",
       "+---------------------+-----------+----------+\n",
       "| Logistic Regression |    0.79   |   0.79   |\n",
       "|       XGBoost       |   0.8418  |  0.8418  |\n",
       "|         LGBM        |   0.875   |  0.869   |\n",
       "+---------------------+-----------+----------+"
      ]
     },
     "execution_count": 108,
     "metadata": {},
     "output_type": "execute_result"
    }
   ],
   "source": [
    "from prettytable import PrettyTable\n",
    "x = PrettyTable()\n",
    "\n",
    "x.field_names = [\"Model\",\"Train-AUC\", \"Test-AUC\"]\n",
    "x.add_row([\"Logistic Regression\",0.79 ,0.79])\n",
    "x.add_row([\"XGBoost\",0.8418,0.8418])\n",
    "x.add_row([\"LGBM\",0.875,0.869])\n",
    "(x)"
   ]
  },
  {
   "cell_type": "code",
   "execution_count": null,
   "id": "b9c64a5f",
   "metadata": {},
   "outputs": [],
   "source": []
  }
 ],
 "metadata": {
  "accelerator": "GPU",
  "colab": {
   "collapsed_sections": [],
   "name": "Quora_question_pairs (1).ipynb",
   "provenance": []
  },
  "gpuClass": "standard",
  "kernelspec": {
   "display_name": "Python 3 (ipykernel)",
   "language": "python",
   "name": "python3"
  },
  "language_info": {
   "codemirror_mode": {
    "name": "ipython",
    "version": 3
   },
   "file_extension": ".py",
   "mimetype": "text/x-python",
   "name": "python",
   "nbconvert_exporter": "python",
   "pygments_lexer": "ipython3",
   "version": "3.9.12"
  }
 },
 "nbformat": 4,
 "nbformat_minor": 5
}
