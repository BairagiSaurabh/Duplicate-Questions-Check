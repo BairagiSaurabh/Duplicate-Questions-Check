{
  "cells": [
    {
      "cell_type": "code",
      "execution_count": 4,
      "metadata": {
        "id": "0Ss7pVmR__W2"
      },
      "outputs": [],
      "source": [
        "import numpy as np\n",
        "import pandas as pd\n",
        "import matplotlib.pyplot as plt\n",
        "from sklearn.metrics import roc_curve, auc\n",
        "from sklearn.metrics import roc_auc_score\n",
        "from sklearn.calibration import CalibratedClassifierCV\n",
        "from sklearn.ensemble import RandomForestClassifier\n",
        "from sklearn.model_selection import cross_val_score\n",
        "from sklearn.model_selection import RandomizedSearchCV\n",
        "from sklearn.linear_model import LogisticRegression\n",
        "import xgboost as xgb\n",
        "import lightgbm as ltb\n",
        "from sklearn.utils import class_weight\n",
        "import warnings\n",
        "warnings.filterwarnings(\"ignore\")"
      ]
    },
    {
      "cell_type": "code",
      "execution_count": 2,
      "metadata": {
        "id": "cuuA8aSnAbEJ"
      },
      "outputs": [],
      "source": [
        "X_train = pd.read_csv(\"/content/drive/MyDrive/ML Projects/Quora Question pair/X_train.csv\")\n",
        "X_test = pd.read_csv(\"/content/drive/MyDrive/ML Projects/Quora Question pair/X_test.csv\")\n",
        "y_train = pd.read_csv(\"/content/drive/MyDrive/ML Projects/Quora Question pair/y_train.csv\")\n",
        "y_test = pd.read_csv(\"/content/drive/MyDrive/ML Projects/Quora Question pair/y_test.csv\")"
      ]
    },
    {
      "cell_type": "code",
      "execution_count": 3,
      "metadata": {
        "id": "zfKlX4C4AbX-"
      },
      "outputs": [],
      "source": [
        "X_train.drop([\"Unnamed: 0\"], axis = 1, inplace = True)\n",
        "X_test.drop([\"Unnamed: 0\"], axis = 1, inplace = True)\n",
        "\n",
        "y_train.drop([\"Unnamed: 0\"], axis = 1, inplace = True)\n",
        "y_test.drop([\"Unnamed: 0\"], axis = 1, inplace = True)"
      ]
    },
    {
      "cell_type": "markdown",
      "source": [
        "# Balancing through Class weights:"
      ],
      "metadata": {
        "id": "-rA9dtAFSl4k"
      }
    },
    {
      "cell_type": "code",
      "source": [
        "classes = np.unique(y_train)\n",
        "cw = class_weight.compute_class_weight(class_weight = 'balanced', classes = np.unique(y_train), y = y_train['is_duplicate'])\n",
        "weights = dict(zip(classes,cw))"
      ],
      "metadata": {
        "id": "78_zF2n5S__W"
      },
      "execution_count": 10,
      "outputs": []
    },
    {
      "cell_type": "code",
      "source": [
        "weights"
      ],
      "metadata": {
        "colab": {
          "base_uri": "https://localhost:8080/"
        },
        "id": "opgOtFdXTVD5",
        "outputId": "573c6b96-b4e1-4144-afef-7924e1763f29"
      },
      "execution_count": 11,
      "outputs": [
        {
          "output_type": "execute_result",
          "data": {
            "text/plain": [
              "{0: 0.7926443125395184, 1: 1.3542793735868017}"
            ]
          },
          "metadata": {},
          "execution_count": 11
        }
      ]
    },
    {
      "cell_type": "markdown",
      "metadata": {
        "id": "ZPr9pm_LOnh3"
      },
      "source": [
        "#Logistic Regression:"
      ]
    },
    {
      "cell_type": "code",
      "execution_count": null,
      "metadata": {
        "colab": {
          "base_uri": "https://localhost:8080/"
        },
        "id": "coSkIH8JOmil",
        "outputId": "a6280d39-f644-4cb1-b3b0-1be45d7c48e7"
      },
      "outputs": [
        {
          "data": {
            "text/plain": [
              "LogisticRegression(C=0.01)"
            ]
          },
          "execution_count": 5,
          "metadata": {},
          "output_type": "execute_result"
        }
      ],
      "source": [
        "lr = LogisticRegression(C = 0.01)\n",
        "lr.fit(X_train, y_train) # now fitting on entire train data"
      ]
    },
    {
      "cell_type": "code",
      "execution_count": null,
      "metadata": {
        "id": "eadYYjILOmp2"
      },
      "outputs": [],
      "source": [
        "lr_train_predict = lr.predict_proba(X_train)[:,1]\n",
        "lr_test_predict = lr.predict_proba(X_test)[:,1]\n",
        "\n",
        "lr_train_score = roc_auc_score(y_train,lr_train_predict)\n",
        "lr_test_score = roc_auc_score(y_test,lr_test_predict)"
      ]
    },
    {
      "cell_type": "code",
      "execution_count": null,
      "metadata": {
        "colab": {
          "base_uri": "https://localhost:8080/",
          "height": 295
        },
        "id": "CRWCFkJUOmsc",
        "outputId": "d7614456-1a98-447c-8f23-772048063961"
      },
      "outputs": [
        {
          "data": {
            "image/png": "[encoded data removed]",
            "text/plain": [
              "<Figure size 432x288 with 1 Axes>"
            ]
          },
          "metadata": {},
          "output_type": "display_data"
        }
      ],
      "source": [
        "train_fpr, train_tpr, tr_thresholds = roc_curve(y_train, lr_train_predict)\n",
        "test_fpr, test_tpr, te_thresholds = roc_curve(y_test, lr_test_predict)\n",
        "\n",
        "plt.plot(train_fpr, train_tpr, label=\"train AUC =\"+str(auc(train_fpr, train_tpr)))\n",
        "plt.plot(test_fpr, test_tpr, label=\"test AUC =\"+str(auc(test_fpr, test_tpr)))\n",
        "plt.legend()\n",
        "plt.xlabel(\"FPR\")\n",
        "plt.ylabel(\"TPR\")\n",
        "plt.title(\"ROC Curve\")\n",
        "plt.grid()\n",
        "plt.show()"
      ]
    },
    {
      "cell_type": "code",
      "execution_count": null,
      "metadata": {
        "colab": {
          "base_uri": "https://localhost:8080/"
        },
        "id": "O8ExYhpnOmvG",
        "outputId": "80c3d7f5-c369-44eb-bc88-f99de6def6c6"
      },
      "outputs": [
        {
          "name": "stdout",
          "output_type": "stream",
          "text": [
            "AUC Score on Test set : 0.7936948381316729\n"
          ]
        }
      ],
      "source": [
        "print(\"AUC Score on Test set : {}\".format(lr_test_score))"
      ]
    },
    {
      "cell_type": "markdown",
      "metadata": {
        "id": "QI2QLqOPCyui"
      },
      "source": [
        "# XGBoost"
      ]
    },
    {
      "cell_type": "code",
      "execution_count": null,
      "metadata": {
        "id": "4XlgIY7eC7Fi"
      },
      "outputs": [],
      "source": [
        "classifier = xgb.XGBClassifier()\n",
        "classifier.fit(X_train,y_train)\n",
        "xgboost_pred_train = classifier.predict_proba(X_train)[:,1]\n",
        "xgboost_pred_test = classifier.predict_proba(X_test)[:,1]\n",
        "\n",
        "xgb_test_auc = roc_auc_score(y_test,xgboost_pred_test)"
      ]
    },
    {
      "cell_type": "code",
      "execution_count": null,
      "metadata": {
        "colab": {
          "base_uri": "https://localhost:8080/",
          "height": 295
        },
        "id": "C_BS-W_0C7Il",
        "outputId": "b6b56233-c600-46f2-8b0e-e2bb60d73d73"
      },
      "outputs": [
        {
          "data": {
            "image/png": "[encoded data removed]",
            "text/plain": [
              "<Figure size 432x288 with 1 Axes>"
            ]
          },
          "metadata": {},
          "output_type": "display_data"
        }
      ],
      "source": [
        "train_fpr, train_tpr, tr_thresholds = roc_curve(y_train, xgboost_pred_train)\n",
        "test_fpr, test_tpr, te_thresholds = roc_curve(y_test, xgboost_pred_test)\n",
        "\n",
        "plt.plot(train_fpr, train_tpr, label=\"train AUC =\"+str(auc(train_fpr, train_tpr)))\n",
        "plt.plot(test_fpr, test_tpr, label=\"test AUC =\"+str(auc(test_fpr, test_tpr)))\n",
        "plt.legend()\n",
        "plt.xlabel(\"FPR\")\n",
        "plt.ylabel(\"TPR\")\n",
        "plt.title(\"ROC Curve\")\n",
        "plt.grid()\n",
        "plt.show()"
      ]
    },
    {
      "cell_type": "code",
      "execution_count": null,
      "metadata": {
        "colab": {
          "base_uri": "https://localhost:8080/"
        },
        "id": "gx3T--iIFePI",
        "outputId": "ff6539dd-c900-4d20-feab-f1cf223fcbec"
      },
      "outputs": [
        {
          "name": "stdout",
          "output_type": "stream",
          "text": [
            "AUC Score on Test set : 0.8418334300379477\n"
          ]
        }
      ],
      "source": [
        "print(\"AUC Score on Test set : {}\".format(xgb_test_auc))"
      ]
    },
    {
      "cell_type": "markdown",
      "metadata": {
        "id": "iB8UhsZMOclv"
      },
      "source": [
        "# LGBM:"
      ]
    },
    {
      "cell_type": "code",
      "execution_count": null,
      "metadata": {
        "colab": {
          "base_uri": "https://localhost:8080/"
        },
        "id": "DSpRwI3KObiq",
        "outputId": "f9221145-a5cf-41fb-f9fa-fd09828e91d1"
      },
      "outputs": [
        {
          "output_type": "execute_result",
          "data": {
            "text/plain": [
              "LGBMClassifier()"
            ]
          },
          "metadata": {},
          "execution_count": 37
        }
      ],
      "source": [
        "lgbm = ltb.LGBMClassifier()\n",
        "lgbm.fit(X_train,y_train)"
      ]
    },
    {
      "cell_type": "code",
      "execution_count": null,
      "metadata": {
        "colab": {
          "base_uri": "https://localhost:8080/"
        },
        "id": "h5xXxI44PmGX",
        "outputId": "078f9d5a-da81-4a10-98c2-a3fde3f9fba3"
      },
      "outputs": [
        {
          "output_type": "execute_result",
          "data": {
            "text/plain": [
              "CalibratedClassifierCV(base_estimator=LGBMClassifier())"
            ]
          },
          "metadata": {},
          "execution_count": 5
        }
      ],
      "source": [
        "sig_clf = CalibratedClassifierCV(lgbm, method=\"sigmoid\")\n",
        "sig_clf.fit(X_train, y_train)"
      ]
    },
    {
      "cell_type": "code",
      "execution_count": null,
      "metadata": {
        "id": "UMR6rXqrOblK"
      },
      "outputs": [],
      "source": [
        "lgbm_train_predict = sig_clf.predict_proba(X_train)[:,1]\n",
        "lgbm_test_predict = sig_clf.predict_proba(X_test)[:,1]\n",
        "\n",
        "lgbm_test_score = roc_auc_score(y_test,lgbm_test_predict)"
      ]
    },
    {
      "cell_type": "code",
      "execution_count": null,
      "metadata": {
        "colab": {
          "base_uri": "https://localhost:8080/",
          "height": 295
        },
        "id": "klCz8EvPObnt",
        "outputId": "80c6c5c2-2c9a-49f3-d135-583f5ce8c426"
      },
      "outputs": [
        {
          "output_type": "display_data",
          "data": {
            "text/plain": [
              "<Figure size 432x288 with 1 Axes>"
            ],
            "image/png": "[encoded data removed]"
          },
          "metadata": {
            "needs_background": "light"
          }
        }
      ],
      "source": [
        "train_fpr, train_tpr, tr_thresholds = roc_curve(y_train, lgbm_train_predict)\n",
        "test_fpr, test_tpr, te_thresholds = roc_curve(y_test, lgbm_test_predict)\n",
        "\n",
        "plt.plot(train_fpr, train_tpr, label=\"train AUC =\"+str(auc(train_fpr, train_tpr)))\n",
        "plt.plot(test_fpr, test_tpr, label=\"test AUC =\"+str(auc(test_fpr, test_tpr)))\n",
        "plt.legend()\n",
        "plt.xlabel(\"FPR\")\n",
        "plt.ylabel(\"TPR\")\n",
        "plt.title(\"ROC Curve\")\n",
        "plt.grid()\n",
        "plt.show()"
      ]
    },
    {
      "cell_type": "code",
      "execution_count": null,
      "metadata": {
        "colab": {
          "base_uri": "https://localhost:8080/"
        },
        "id": "-EUgBiKmObqn",
        "outputId": "7d6bbf28-b313-4850-8d77-370265a6f54b"
      },
      "outputs": [
        {
          "output_type": "stream",
          "name": "stdout",
          "text": [
            "AUC Score on Test set : 0.8699135169906964\n"
          ]
        }
      ],
      "source": [
        "print(\"AUC Score on Test set : {}\".format(lgbm_test_score))"
      ]
    },
    {
      "cell_type": "markdown",
      "source": [
        "# Modeling after balancing classes"
      ],
      "metadata": {
        "id": "OVlsoF8tTd-R"
      }
    },
    {
      "cell_type": "markdown",
      "source": [
        "# Logistic Regression:"
      ],
      "metadata": {
        "id": "AFoc1uHOUfe5"
      }
    },
    {
      "cell_type": "code",
      "source": [
        "lr = LogisticRegression(C = 0.01, class_weight = weights)\n",
        "lr.fit(X_train, y_train) # now fitting on entire train data"
      ],
      "metadata": {
        "colab": {
          "base_uri": "https://localhost:8080/"
        },
        "id": "tEGWIiwATjfR",
        "outputId": "f14a5822-7f7d-442f-a70b-d4d2440d2673"
      },
      "execution_count": 12,
      "outputs": [
        {
          "output_type": "execute_result",
          "data": {
            "text/plain": [
              "LogisticRegression(C=0.01,\n",
              "                   class_weight={0: 0.7926443125395184, 1: 1.3542793735868017})"
            ]
          },
          "metadata": {},
          "execution_count": 12
        }
      ]
    },
    {
      "cell_type": "code",
      "source": [
        "lr_train_predict = lr.predict_proba(X_train)[:,1]\n",
        "lr_test_predict = lr.predict_proba(X_test)[:,1]\n",
        "\n",
        "lr_train_score = roc_auc_score(y_train,lr_train_predict)\n",
        "lr_test_score = roc_auc_score(y_test,lr_test_predict)"
      ],
      "metadata": {
        "id": "3d7yCkB0TjiI"
      },
      "execution_count": 13,
      "outputs": []
    },
    {
      "cell_type": "code",
      "source": [
        "train_fpr, train_tpr, tr_thresholds = roc_curve(y_train, lr_train_predict)\n",
        "test_fpr, test_tpr, te_thresholds = roc_curve(y_test, lr_test_predict)\n",
        "\n",
        "plt.plot(train_fpr, train_tpr, label=\"train AUC =\"+str(auc(train_fpr, train_tpr)))\n",
        "plt.plot(test_fpr, test_tpr, label=\"test AUC =\"+str(auc(test_fpr, test_tpr)))\n",
        "plt.legend()\n",
        "plt.xlabel(\"FPR\")\n",
        "plt.ylabel(\"TPR\")\n",
        "plt.title(\"ROC Curve\")\n",
        "plt.grid()\n",
        "plt.show()"
      ],
      "metadata": {
        "colab": {
          "base_uri": "https://localhost:8080/",
          "height": 295
        },
        "id": "sCAlFsnSUaCB",
        "outputId": "86b264ed-0c18-4ed4-c3fc-df03273c3668"
      },
      "execution_count": 15,
      "outputs": [
        {
          "output_type": "display_data",
          "data": {
            "text/plain": [
              "<Figure size 432x288 with 1 Axes>"
            ],
            "image/png": "[encoded data removed]"
          },
          "metadata": {
            "needs_background": "light"
          }
        }
      ]
    },
    {
      "cell_type": "code",
      "source": [
        "print(\"AUC Score on Test set : {}\".format(lr_test_score))"
      ],
      "metadata": {
        "colab": {
          "base_uri": "https://localhost:8080/"
        },
        "id": "ba4WLuIyTjkl",
        "outputId": "530d0a28-6e51-4815-d362-cbb87e9d1c3a"
      },
      "execution_count": 14,
      "outputs": [
        {
          "output_type": "stream",
          "name": "stdout",
          "text": [
            "AUC Score on Test set : 0.8081391242668265\n"
          ]
        }
      ]
    },
    {
      "cell_type": "markdown",
      "source": [
        "# XGBoost:"
      ],
      "metadata": {
        "id": "g5lXpS0SU3Ha"
      }
    },
    {
      "cell_type": "code",
      "source": [
        "classifier = xgb.XGBClassifier(class_weight = weights)\n",
        "classifier.fit(X_train,y_train)\n",
        "xgboost_pred_train = classifier.predict_proba(X_train)[:,1]\n",
        "xgboost_pred_test = classifier.predict_proba(X_test)[:,1]\n",
        "\n",
        "xgb_test_auc = roc_auc_score(y_test,xgboost_pred_test)"
      ],
      "metadata": {
        "id": "XIbEh3RkTjn6"
      },
      "execution_count": 16,
      "outputs": []
    },
    {
      "cell_type": "code",
      "source": [
        "train_fpr, train_tpr, tr_thresholds = roc_curve(y_train, xgboost_pred_train)\n",
        "test_fpr, test_tpr, te_thresholds = roc_curve(y_test, xgboost_pred_test)\n",
        "\n",
        "plt.plot(train_fpr, train_tpr, label=\"train AUC =\"+str(auc(train_fpr, train_tpr)))\n",
        "plt.plot(test_fpr, test_tpr, label=\"test AUC =\"+str(auc(test_fpr, test_tpr)))\n",
        "plt.legend()\n",
        "plt.xlabel(\"FPR\")\n",
        "plt.ylabel(\"TPR\")\n",
        "plt.title(\"ROC Curve\")\n",
        "plt.grid()\n",
        "plt.show()"
      ],
      "metadata": {
        "colab": {
          "base_uri": "https://localhost:8080/",
          "height": 295
        },
        "id": "tbf1xiV4TjrG",
        "outputId": "62cb7ad5-2bed-47f4-aff7-0ecb08fc3eaf"
      },
      "execution_count": 17,
      "outputs": [
        {
          "output_type": "display_data",
          "data": {
            "text/plain": [
              "<Figure size 432x288 with 1 Axes>"
            ],
            "image/png": "[encoded data removed]"
          },
          "metadata": {
            "needs_background": "light"
          }
        }
      ]
    },
    {
      "cell_type": "code",
      "source": [
        "print(\"AUC Score on Test set : {}\".format(xgb_test_auc))"
      ],
      "metadata": {
        "colab": {
          "base_uri": "https://localhost:8080/"
        },
        "id": "Tbj3X_uPTjtZ",
        "outputId": "c7aa50ed-f9a2-436e-f14b-d5a205863de9"
      },
      "execution_count": 18,
      "outputs": [
        {
          "output_type": "stream",
          "name": "stdout",
          "text": [
            "AUC Score on Test set : 0.8418334300379477\n"
          ]
        }
      ]
    },
    {
      "cell_type": "markdown",
      "source": [
        "# LGBM:"
      ],
      "metadata": {
        "id": "7vSglzpAVqS3"
      }
    },
    {
      "cell_type": "code",
      "source": [
        "lgbm = ltb.LGBMClassifier(class_weight = weights)\n",
        "lgbm.fit(X_train,y_train)"
      ],
      "metadata": {
        "colab": {
          "base_uri": "https://localhost:8080/"
        },
        "id": "vRy0jqn6Tjvs",
        "outputId": "234d3639-201d-4041-e21e-af849cb2f8e3"
      },
      "execution_count": 19,
      "outputs": [
        {
          "output_type": "execute_result",
          "data": {
            "text/plain": [
              "LGBMClassifier(class_weight={0: 0.7926443125395184, 1: 1.3542793735868017})"
            ]
          },
          "metadata": {},
          "execution_count": 19
        }
      ]
    },
    {
      "cell_type": "code",
      "source": [
        "lgbm_train_predict = lgbm.predict_proba(X_train)[:,1]\n",
        "lgbm_test_predict = lgbm.predict_proba(X_test)[:,1]\n",
        "\n",
        "lgbm_test_score = roc_auc_score(y_test,lgbm_test_predict)"
      ],
      "metadata": {
        "id": "1tIuZa5CTjyD"
      },
      "execution_count": 24,
      "outputs": []
    },
    {
      "cell_type": "code",
      "source": [
        "train_fpr, train_tpr, tr_thresholds = roc_curve(y_train, lgbm_train_predict)\n",
        "test_fpr, test_tpr, te_thresholds = roc_curve(y_test, lgbm_test_predict)\n",
        "\n",
        "plt.plot(train_fpr, train_tpr, label=\"train AUC =\"+str(auc(train_fpr, train_tpr)))\n",
        "plt.plot(test_fpr, test_tpr, label=\"test AUC =\"+str(auc(test_fpr, test_tpr)))\n",
        "plt.legend()\n",
        "plt.xlabel(\"FPR\")\n",
        "plt.ylabel(\"TPR\")\n",
        "plt.title(\"ROC Curve\")\n",
        "plt.grid()\n",
        "plt.show()"
      ],
      "metadata": {
        "colab": {
          "base_uri": "https://localhost:8080/",
          "height": 295
        },
        "id": "70ykh63gTj0L",
        "outputId": "0e5d44c2-d37e-4991-94c8-77af581faa81"
      },
      "execution_count": 25,
      "outputs": [
        {
          "output_type": "display_data",
          "data": {
            "text/plain": [
              "<Figure size 432x288 with 1 Axes>"
            ],
            "image/png": "[encoded data removed]"
          },
          "metadata": {
            "needs_background": "light"
          }
        }
      ]
    },
    {
      "cell_type": "code",
      "source": [
        "print(\"AUC Score on Test set : {}\".format(lgbm_test_score))"
      ],
      "metadata": {
        "colab": {
          "base_uri": "https://localhost:8080/"
        },
        "id": "Rc_6lWHMWDnU",
        "outputId": "42ae0f5c-aeba-4a46-8c87-a0873d99c792"
      },
      "execution_count": 22,
      "outputs": [
        {
          "output_type": "stream",
          "name": "stdout",
          "text": [
            "AUC Score on Test set : 0.8684723071028959\n"
          ]
        }
      ]
    },
    {
      "cell_type": "code",
      "execution_count": null,
      "metadata": {
        "colab": {
          "base_uri": "https://localhost:8080/",
          "height": 102
        },
        "id": "YxbI4_RyObsh",
        "outputId": "2e832e41-48f1-432f-fedb-39a1f6e0b662"
      },
      "outputs": [
        {
          "data": {
            "text/html": [
              "<table>\n",
              "    <thead>\n",
              "        <tr>\n",
              "            <th>Model</th>\n",
              "            <th>Train-AUC</th>\n",
              "            <th>Test-AUC</th>\n",
              "        </tr>\n",
              "    </thead>\n",
              "    <tbody>\n",
              "        <tr>\n",
              "            <td>Logistic Regression</td>\n",
              "            <td>0.79</td>\n",
              "            <td>0.79</td>\n",
              "        </tr>\n",
              "        <tr>\n",
              "            <td>XGBoost</td>\n",
              "            <td>0.8418</td>\n",
              "            <td>0.8418</td>\n",
              "        </tr>\n",
              "        <tr>\n",
              "            <td>LGBM</td>\n",
              "            <td>0.875</td>\n",
              "            <td>0.869</td>\n",
              "        </tr>\n",
              "    </tbody>\n",
              "</table>"
            ],
            "text/plain": [
              "+---------------------+-----------+----------+\n",
              "|        Model        | Train-AUC | Test-AUC |\n",
              "+---------------------+-----------+----------+\n",
              "| Logistic Regression |    0.79   |   0.79   |\n",
              "|       XGBoost       |   0.8418  |  0.8418  |\n",
              "|         LGBM        |   0.875   |  0.869   |\n",
              "+---------------------+-----------+----------+"
            ]
          },
          "execution_count": 21,
          "metadata": {},
          "output_type": "execute_result"
        }
      ],
      "source": [
        "from prettytable import PrettyTable\n",
        "x = PrettyTable()\n",
        "\n",
        "x.field_names = [\"Model\",\"Train-AUC\", \"Test-AUC\"]\n",
        "x.add_row([\"Logistic Regression\",0.79 ,0.79])\n",
        "x.add_row([\"XGBoost\",0.8418,0.8418])\n",
        "x.add_row([\"LGBM\",0.875,0.869])\n",
        "(x)"
      ]
    }
  ],
  "metadata": {
    "accelerator": "GPU",
    "colab": {
      "provenance": []
    },
    "gpuClass": "standard",
    "kernelspec": {
      "display_name": "Python 3",
      "name": "python3"
    },
    "language_info": {
      "name": "python"
    }
  },
  "nbformat": 4,
  "nbformat_minor": 0
}